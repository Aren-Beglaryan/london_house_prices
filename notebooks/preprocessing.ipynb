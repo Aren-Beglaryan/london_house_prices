{
 "cells": [
  {
   "cell_type": "markdown",
   "id": "dfb246f7",
   "metadata": {},
   "source": [
    "## Importing libraries"
   ]
  },
  {
   "cell_type": "code",
   "execution_count": 1,
   "id": "900e66d1",
   "metadata": {
    "ExecuteTime": {
     "end_time": "2022-02-06T22:08:06.267160Z",
     "start_time": "2022-02-06T22:08:04.701879Z"
    }
   },
   "outputs": [],
   "source": [
    "# import sqlalchemy\n",
    "from google.cloud import bigquery\n",
    "from sqlalchemy.engine import create_engine\n",
    "from google.oauth2 import service_account\n",
    "\n",
    "import pickle\n",
    "import numpy as np\n",
    "import pandas as pd\n",
    "import re\n",
    "import geopy.distance\n",
    "\n",
    "from sklearn.model_selection import train_test_split\n",
    "from sklearn.preprocessing import OneHotEncoder"
   ]
  },
  {
   "cell_type": "markdown",
   "id": "e473b260",
   "metadata": {},
   "source": [
    "## Data reading "
   ]
  },
  {
   "cell_type": "code",
   "execution_count": 2,
   "id": "a07d664d",
   "metadata": {
    "ExecuteTime": {
     "end_time": "2022-02-06T22:08:07.272869Z",
     "start_time": "2022-02-06T22:08:07.262270Z"
    }
   },
   "outputs": [],
   "source": [
    "credentials_json_path = \"credentials_view.json\"\n",
    "\n",
    "credentials = service_account.Credentials.from_service_account_file(\n",
    "    credentials_json_path, scopes=[\"https://www.googleapis.com/auth/cloud-platform\"],\n",
    ")\n",
    "\n",
    "bqclient = bigquery.Client(credentials=credentials, project=credentials.project_id)"
   ]
  },
  {
   "cell_type": "code",
   "execution_count": 3,
   "id": "dd3d5cf0",
   "metadata": {
    "ExecuteTime": {
     "end_time": "2022-02-06T22:08:08.022916Z",
     "start_time": "2022-02-06T22:08:08.012621Z"
    }
   },
   "outputs": [],
   "source": [
    "# PROJECT_ID = credentials.project_id\n",
    "# DB_NAME = \"house_data\"\n",
    "# DATASET = \"london_house_prices\""
   ]
  },
  {
   "cell_type": "code",
   "execution_count": 4,
   "id": "6e40b5d4",
   "metadata": {
    "ExecuteTime": {
     "end_time": "2022-02-06T22:09:10.404891Z",
     "start_time": "2022-02-06T22:08:08.793725Z"
    }
   },
   "outputs": [],
   "source": [
    "# Download a table.\n",
    "table = bigquery.TableReference.from_string(\n",
    "    \"candidate-testing.house_data.london_house_prices\"\n",
    ")\n",
    "rows = bqclient.list_rows(\n",
    "    table\n",
    ")\n",
    "df = rows.to_dataframe()"
   ]
  },
  {
   "cell_type": "code",
   "execution_count": 5,
   "id": "f900f6b9",
   "metadata": {
    "ExecuteTime": {
     "end_time": "2022-02-06T22:09:10.587568Z",
     "start_time": "2022-02-06T22:09:10.554635Z"
    }
   },
   "outputs": [
    {
     "data": {
      "text/html": [
       "<div>\n",
       "<style scoped>\n",
       "    .dataframe tbody tr th:only-of-type {\n",
       "        vertical-align: middle;\n",
       "    }\n",
       "\n",
       "    .dataframe tbody tr th {\n",
       "        vertical-align: top;\n",
       "    }\n",
       "\n",
       "    .dataframe thead th {\n",
       "        text-align: right;\n",
       "    }\n",
       "</style>\n",
       "<table border=\"1\" class=\"dataframe\">\n",
       "  <thead>\n",
       "    <tr style=\"text-align: right;\">\n",
       "      <th></th>\n",
       "      <th>address</th>\n",
       "      <th>type</th>\n",
       "      <th>bedrooms</th>\n",
       "      <th>latitude</th>\n",
       "      <th>longitude</th>\n",
       "      <th>area</th>\n",
       "      <th>price</th>\n",
       "      <th>tenure</th>\n",
       "      <th>is_newbuild</th>\n",
       "      <th>date</th>\n",
       "    </tr>\n",
       "  </thead>\n",
       "  <tbody>\n",
       "    <tr>\n",
       "      <th>0</th>\n",
       "      <td>Flat 3, Warwick Apartments, 132, Cable Street,...</td>\n",
       "      <td>Flat</td>\n",
       "      <td>1</td>\n",
       "      <td>51.51092</td>\n",
       "      <td>-0.06250</td>\n",
       "      <td>E1</td>\n",
       "      <td>299995</td>\n",
       "      <td>Leasehold</td>\n",
       "      <td>1</td>\n",
       "      <td>2014-01-28 00:00:00+00:00</td>\n",
       "    </tr>\n",
       "    <tr>\n",
       "      <th>1</th>\n",
       "      <td>Flat 3, Warwick Apartments, 132, Cable Street,...</td>\n",
       "      <td>Flat</td>\n",
       "      <td>1</td>\n",
       "      <td>51.51092</td>\n",
       "      <td>-0.06250</td>\n",
       "      <td>E1</td>\n",
       "      <td>445000</td>\n",
       "      <td>Leasehold</td>\n",
       "      <td>0</td>\n",
       "      <td>2019-06-20 00:00:00+00:00</td>\n",
       "    </tr>\n",
       "    <tr>\n",
       "      <th>2</th>\n",
       "      <td>25, Varden Street, London, Greater London E1 2AW</td>\n",
       "      <td>Terraced</td>\n",
       "      <td>3</td>\n",
       "      <td>51.51576</td>\n",
       "      <td>-0.06128</td>\n",
       "      <td>E1</td>\n",
       "      <td>300000</td>\n",
       "      <td>Freehold</td>\n",
       "      <td>0</td>\n",
       "      <td>2007-04-20 00:00:00+00:00</td>\n",
       "    </tr>\n",
       "    <tr>\n",
       "      <th>3</th>\n",
       "      <td>25, Varden Street, London, Greater London E1 2AW</td>\n",
       "      <td>Terraced</td>\n",
       "      <td>3</td>\n",
       "      <td>51.51576</td>\n",
       "      <td>-0.06128</td>\n",
       "      <td>E1</td>\n",
       "      <td>1350000</td>\n",
       "      <td>Freehold</td>\n",
       "      <td>0</td>\n",
       "      <td>2020-11-27 00:00:00+00:00</td>\n",
       "    </tr>\n",
       "    <tr>\n",
       "      <th>4</th>\n",
       "      <td>22b Petticoat Tower, Petticoat Square, London,...</td>\n",
       "      <td>Flat</td>\n",
       "      <td>1</td>\n",
       "      <td>51.51575</td>\n",
       "      <td>-0.07714</td>\n",
       "      <td>E1</td>\n",
       "      <td>249950</td>\n",
       "      <td>Leasehold</td>\n",
       "      <td>0</td>\n",
       "      <td>2014-11-07 00:00:00+00:00</td>\n",
       "    </tr>\n",
       "  </tbody>\n",
       "</table>\n",
       "</div>"
      ],
      "text/plain": [
       "                                             address      type  bedrooms  \\\n",
       "0  Flat 3, Warwick Apartments, 132, Cable Street,...      Flat         1   \n",
       "1  Flat 3, Warwick Apartments, 132, Cable Street,...      Flat         1   \n",
       "2   25, Varden Street, London, Greater London E1 2AW  Terraced         3   \n",
       "3   25, Varden Street, London, Greater London E1 2AW  Terraced         3   \n",
       "4  22b Petticoat Tower, Petticoat Square, London,...      Flat         1   \n",
       "\n",
       "   latitude  longitude area    price     tenure  is_newbuild  \\\n",
       "0  51.51092   -0.06250   E1   299995  Leasehold            1   \n",
       "1  51.51092   -0.06250   E1   445000  Leasehold            0   \n",
       "2  51.51576   -0.06128   E1   300000   Freehold            0   \n",
       "3  51.51576   -0.06128   E1  1350000   Freehold            0   \n",
       "4  51.51575   -0.07714   E1   249950  Leasehold            0   \n",
       "\n",
       "                       date  \n",
       "0 2014-01-28 00:00:00+00:00  \n",
       "1 2019-06-20 00:00:00+00:00  \n",
       "2 2007-04-20 00:00:00+00:00  \n",
       "3 2020-11-27 00:00:00+00:00  \n",
       "4 2014-11-07 00:00:00+00:00  "
      ]
     },
     "execution_count": 5,
     "metadata": {},
     "output_type": "execute_result"
    }
   ],
   "source": [
    "df.head()"
   ]
  },
  {
   "cell_type": "code",
   "execution_count": 6,
   "id": "2829708f",
   "metadata": {
    "ExecuteTime": {
     "end_time": "2022-02-06T22:09:11.108833Z",
     "start_time": "2022-02-06T22:09:10.725925Z"
    }
   },
   "outputs": [
    {
     "name": "stdout",
     "output_type": "stream",
     "text": [
      "<class 'pandas.core.frame.DataFrame'>\n",
      "RangeIndex: 690063 entries, 0 to 690062\n",
      "Data columns (total 10 columns):\n",
      " #   Column       Non-Null Count   Dtype              \n",
      "---  ------       --------------   -----              \n",
      " 0   address      690063 non-null  object             \n",
      " 1   type         690063 non-null  object             \n",
      " 2   bedrooms     690063 non-null  int64              \n",
      " 3   latitude     690063 non-null  float64            \n",
      " 4   longitude    690063 non-null  float64            \n",
      " 5   area         690063 non-null  object             \n",
      " 6   price        690063 non-null  int64              \n",
      " 7   tenure       690063 non-null  object             \n",
      " 8   is_newbuild  690063 non-null  int64              \n",
      " 9   date         690063 non-null  datetime64[ns, UTC]\n",
      "dtypes: datetime64[ns, UTC](1), float64(2), int64(3), object(4)\n",
      "memory usage: 52.6+ MB\n"
     ]
    }
   ],
   "source": [
    "df.info()"
   ]
  },
  {
   "cell_type": "code",
   "execution_count": 7,
   "id": "d25804a3",
   "metadata": {
    "ExecuteTime": {
     "end_time": "2022-02-06T22:09:11.243601Z",
     "start_time": "2022-02-06T22:09:11.229221Z"
    }
   },
   "outputs": [],
   "source": [
    "# df['address'].value_counts()"
   ]
  },
  {
   "cell_type": "markdown",
   "id": "656cfc0e",
   "metadata": {},
   "source": [
    "## Data cleaning and preprocessing"
   ]
  },
  {
   "cell_type": "code",
   "execution_count": 8,
   "id": "8df54ec1",
   "metadata": {
    "ExecuteTime": {
     "end_time": "2022-02-06T22:09:12.139519Z",
     "start_time": "2022-02-06T22:09:11.389725Z"
    }
   },
   "outputs": [
    {
     "data": {
      "text/plain": [
       "(241007, 10)"
      ]
     },
     "execution_count": 8,
     "metadata": {},
     "output_type": "execute_result"
    }
   ],
   "source": [
    "df = df.drop_duplicates().reset_index(drop=True)\n",
    "df.shape"
   ]
  },
  {
   "cell_type": "code",
   "execution_count": 9,
   "id": "8987f3bc",
   "metadata": {
    "ExecuteTime": {
     "end_time": "2022-02-06T22:09:12.303678Z",
     "start_time": "2022-02-06T22:09:12.291635Z"
    }
   },
   "outputs": [
    {
     "data": {
      "text/plain": [
       "Index(['address', 'type', 'bedrooms', 'latitude', 'longitude', 'area', 'price',\n",
       "       'tenure', 'is_newbuild', 'date'],\n",
       "      dtype='object')"
      ]
     },
     "execution_count": 9,
     "metadata": {},
     "output_type": "execute_result"
    }
   ],
   "source": [
    "df.columns"
   ]
  },
  {
   "cell_type": "code",
   "execution_count": 10,
   "id": "0fc3bca2",
   "metadata": {
    "ExecuteTime": {
     "end_time": "2022-02-06T22:09:12.519567Z",
     "start_time": "2022-02-06T22:09:12.458368Z"
    }
   },
   "outputs": [
    {
     "data": {
      "text/plain": [
       "(240911, 10)"
      ]
     },
     "execution_count": 10,
     "metadata": {},
     "output_type": "execute_result"
    }
   ],
   "source": [
    "df = df[~((df.latitude==0) & ((df.longitude==0)))]\n",
    "df.shape"
   ]
  },
  {
   "cell_type": "code",
   "execution_count": 11,
   "id": "1477276e",
   "metadata": {
    "ExecuteTime": {
     "end_time": "2022-02-06T22:09:14.571337Z",
     "start_time": "2022-02-06T22:09:12.645571Z"
    }
   },
   "outputs": [],
   "source": [
    "#if everything is same except type we have to drop that rows\n",
    "df = df.drop_duplicates([col for col in df.columns if col!='type'], keep=False)\n",
    "\n",
    "#if everything is same except bedrooms we have to drop that rows\n",
    "df = df.drop_duplicates([col for col in df.columns if col!='bedrooms'], keep=False)\n",
    "\n",
    "#if everything is same except latitude and longitude we have to drop that rows\n",
    "df = df.drop_duplicates([col for col in df.columns if col!='latitude' and col!='longitude'])\n",
    "\n",
    "#if everything is same except area we have to drop that rows\n",
    "df = df.drop_duplicates([col for col in df.columns if col!='area'], keep=False)\n",
    "\n",
    "#if everything is same except price we have to drop that rows\n",
    "df = df.drop_duplicates([col for col in df.columns if col!='price'], keep=False)\n",
    "\n",
    "#if everything is same except tenure we have to drop that rows\n",
    "df = df.drop_duplicates([col for col in df.columns if col!='tenure'], keep=False)\n",
    "\n",
    "#if everything is same except is_newbuild we have to drop that rows\n",
    "df = df.drop_duplicates([col for col in df.columns if col!='is_newbuild'], keep=False)"
   ]
  },
  {
   "cell_type": "code",
   "execution_count": 12,
   "id": "1cb6bfab",
   "metadata": {
    "ExecuteTime": {
     "end_time": "2022-02-06T22:09:14.734505Z",
     "start_time": "2022-02-06T22:09:14.720246Z"
    }
   },
   "outputs": [],
   "source": [
    "def remove_outlier(df_in, col_name):\n",
    "    q1 = df_in[col_name].quantile(0.25)\n",
    "    q3 = df_in[col_name].quantile(0.75)\n",
    "    iqr = q3-q1 #Interquartile range\n",
    "    fence_low  = q1-1.5*iqr\n",
    "    fence_high = q3+1.5*iqr\n",
    "    df_out = df_in.loc[(df_in[col_name] > fence_low) & (df_in[col_name] < fence_high)]\n",
    "    return df_out"
   ]
  },
  {
   "cell_type": "code",
   "execution_count": 13,
   "id": "84dbf6e9",
   "metadata": {
    "ExecuteTime": {
     "end_time": "2022-02-06T22:09:14.874207Z",
     "start_time": "2022-02-06T22:09:14.860261Z"
    }
   },
   "outputs": [
    {
     "data": {
      "text/plain": [
       "(238641, 10)"
      ]
     },
     "execution_count": 13,
     "metadata": {},
     "output_type": "execute_result"
    }
   ],
   "source": [
    "df.shape"
   ]
  },
  {
   "cell_type": "code",
   "execution_count": 14,
   "id": "7ec5f461",
   "metadata": {
    "ExecuteTime": {
     "end_time": "2022-02-06T22:09:15.741043Z",
     "start_time": "2022-02-06T22:09:15.677115Z"
    }
   },
   "outputs": [
    {
     "data": {
      "text/plain": [
       "(220966, 10)"
      ]
     },
     "execution_count": 14,
     "metadata": {},
     "output_type": "execute_result"
    }
   ],
   "source": [
    "df = remove_outlier(df, 'price')\n",
    "df.shape"
   ]
  },
  {
   "cell_type": "markdown",
   "id": "201ee953",
   "metadata": {},
   "source": [
    "## Feature engineering"
   ]
  },
  {
   "cell_type": "markdown",
   "id": "30c98e05",
   "metadata": {},
   "source": [
    "### Address column"
   ]
  },
  {
   "cell_type": "code",
   "execution_count": 15,
   "id": "f6959820",
   "metadata": {
    "ExecuteTime": {
     "end_time": "2022-02-06T22:09:28.583470Z",
     "start_time": "2022-02-06T22:09:28.455490Z"
    }
   },
   "outputs": [],
   "source": [
    "df['address'] = df['address'].apply(lambda x: x.lower().replace(\"'\",\"\"))"
   ]
  },
  {
   "cell_type": "code",
   "execution_count": 16,
   "id": "0a5cc12a",
   "metadata": {
    "ExecuteTime": {
     "end_time": "2022-02-06T22:09:29.098520Z",
     "start_time": "2022-02-06T22:09:29.078537Z"
    }
   },
   "outputs": [],
   "source": [
    "sample_sentence_1 = '6, Polworth, london, Greater London SW16 2EU'.lower()\n",
    "sample_sentence_2 = '6, Polworth Street, London, Greater London SW16 2EU'.lower()"
   ]
  },
  {
   "cell_type": "code",
   "execution_count": 17,
   "id": "c9148a3e",
   "metadata": {
    "ExecuteTime": {
     "end_time": "2022-02-06T22:09:30.213382Z",
     "start_time": "2022-02-06T22:09:30.193175Z"
    }
   },
   "outputs": [
    {
     "name": "stdout",
     "output_type": "stream",
     "text": [
      "polworth\n",
      "polworth street\n"
     ]
    }
   ],
   "source": [
    "def extract_road(x):\n",
    "    \"\"\"This function extracts the road/street/... from input string\n",
    "    \"\"\"\n",
    "    road_matcher = re.compile(r'(\\w+\\s?\\w+),\\s?london,')\n",
    "    res = road_matcher.findall(x)\n",
    "    if res:\n",
    "        return res[0]\n",
    "    return None\n",
    "\n",
    "print(extract_road(sample_sentence_1))\n",
    "print(extract_road(sample_sentence_2))"
   ]
  },
  {
   "cell_type": "code",
   "execution_count": 18,
   "id": "cd84c05b",
   "metadata": {
    "ExecuteTime": {
     "end_time": "2022-02-06T22:09:43.275257Z",
     "start_time": "2022-02-06T22:09:41.290331Z"
    }
   },
   "outputs": [],
   "source": [
    "df['road'] = df['address'].apply(extract_road)"
   ]
  },
  {
   "cell_type": "code",
   "execution_count": 19,
   "id": "06238ead",
   "metadata": {
    "ExecuteTime": {
     "end_time": "2022-02-06T22:09:45.003023Z",
     "start_time": "2022-02-06T22:09:44.950710Z"
    }
   },
   "outputs": [],
   "source": [
    "top5_roads = df['road'].value_counts().index[:5]"
   ]
  },
  {
   "cell_type": "code",
   "execution_count": 20,
   "id": "4d08e816",
   "metadata": {
    "ExecuteTime": {
     "end_time": "2022-02-06T22:09:51.061491Z",
     "start_time": "2022-02-06T22:09:51.025521Z"
    }
   },
   "outputs": [],
   "source": [
    "df['road'] = np.where(df['road'].isin(top5_roads), df['road'], 'Other')"
   ]
  },
  {
   "cell_type": "code",
   "execution_count": 21,
   "id": "9b96fa30",
   "metadata": {
    "ExecuteTime": {
     "end_time": "2022-02-06T22:09:51.689173Z",
     "start_time": "2022-02-06T22:09:51.670674Z"
    }
   },
   "outputs": [],
   "source": [
    "# uniuqe_ll = df[['latitude','longitude']].drop_duplicates().values\n",
    "# uniuqe_ll"
   ]
  },
  {
   "cell_type": "code",
   "execution_count": 23,
   "id": "5d068037",
   "metadata": {
    "ExecuteTime": {
     "end_time": "2022-02-06T22:10:01.502241Z",
     "start_time": "2022-02-06T22:10:01.480989Z"
    }
   },
   "outputs": [
    {
     "data": {
      "text/html": [
       "<div>\n",
       "<style scoped>\n",
       "    .dataframe tbody tr th:only-of-type {\n",
       "        vertical-align: middle;\n",
       "    }\n",
       "\n",
       "    .dataframe tbody tr th {\n",
       "        vertical-align: top;\n",
       "    }\n",
       "\n",
       "    .dataframe thead th {\n",
       "        text-align: right;\n",
       "    }\n",
       "</style>\n",
       "<table border=\"1\" class=\"dataframe\">\n",
       "  <thead>\n",
       "    <tr style=\"text-align: right;\">\n",
       "      <th></th>\n",
       "      <th>address</th>\n",
       "      <th>type</th>\n",
       "      <th>bedrooms</th>\n",
       "      <th>latitude</th>\n",
       "      <th>longitude</th>\n",
       "      <th>area</th>\n",
       "      <th>price</th>\n",
       "      <th>tenure</th>\n",
       "      <th>is_newbuild</th>\n",
       "      <th>date</th>\n",
       "      <th>road</th>\n",
       "    </tr>\n",
       "  </thead>\n",
       "  <tbody>\n",
       "    <tr>\n",
       "      <th>0</th>\n",
       "      <td>flat 3, warwick apartments, 132, cable street,...</td>\n",
       "      <td>Flat</td>\n",
       "      <td>1</td>\n",
       "      <td>51.51092</td>\n",
       "      <td>-0.0625</td>\n",
       "      <td>E1</td>\n",
       "      <td>299995</td>\n",
       "      <td>Leasehold</td>\n",
       "      <td>1</td>\n",
       "      <td>2014-01-28 00:00:00+00:00</td>\n",
       "      <td>Other</td>\n",
       "    </tr>\n",
       "    <tr>\n",
       "      <th>1</th>\n",
       "      <td>flat 3, warwick apartments, 132, cable street,...</td>\n",
       "      <td>Flat</td>\n",
       "      <td>1</td>\n",
       "      <td>51.51092</td>\n",
       "      <td>-0.0625</td>\n",
       "      <td>E1</td>\n",
       "      <td>445000</td>\n",
       "      <td>Leasehold</td>\n",
       "      <td>0</td>\n",
       "      <td>2019-06-20 00:00:00+00:00</td>\n",
       "      <td>Other</td>\n",
       "    </tr>\n",
       "  </tbody>\n",
       "</table>\n",
       "</div>"
      ],
      "text/plain": [
       "                                             address  type  bedrooms  \\\n",
       "0  flat 3, warwick apartments, 132, cable street,...  Flat         1   \n",
       "1  flat 3, warwick apartments, 132, cable street,...  Flat         1   \n",
       "\n",
       "   latitude  longitude area   price     tenure  is_newbuild  \\\n",
       "0  51.51092    -0.0625   E1  299995  Leasehold            1   \n",
       "1  51.51092    -0.0625   E1  445000  Leasehold            0   \n",
       "\n",
       "                       date   road  \n",
       "0 2014-01-28 00:00:00+00:00  Other  \n",
       "1 2019-06-20 00:00:00+00:00  Other  "
      ]
     },
     "execution_count": 23,
     "metadata": {},
     "output_type": "execute_result"
    }
   ],
   "source": [
    "df.head(2)"
   ]
  },
  {
   "cell_type": "markdown",
   "id": "9a1750c2",
   "metadata": {},
   "source": [
    "### Date column"
   ]
  },
  {
   "cell_type": "code",
   "execution_count": 24,
   "id": "7d0c881a",
   "metadata": {
    "ExecuteTime": {
     "end_time": "2022-02-06T22:10:07.161525Z",
     "start_time": "2022-02-06T22:10:07.139466Z"
    }
   },
   "outputs": [
    {
     "data": {
      "text/plain": [
       "0        2014-01-28 00:00:00+00:00\n",
       "1        2019-06-20 00:00:00+00:00\n",
       "2        2007-04-20 00:00:00+00:00\n",
       "4        2014-11-07 00:00:00+00:00\n",
       "5        2019-05-10 00:00:00+00:00\n",
       "                    ...           \n",
       "241002   2019-09-24 00:00:00+00:00\n",
       "241003   2006-03-27 00:00:00+00:00\n",
       "241004   2006-09-07 00:00:00+00:00\n",
       "241005   2020-08-11 00:00:00+00:00\n",
       "241006   2020-09-04 00:00:00+00:00\n",
       "Name: date, Length: 220966, dtype: datetime64[ns, UTC]"
      ]
     },
     "execution_count": 24,
     "metadata": {},
     "output_type": "execute_result"
    }
   ],
   "source": [
    "df.date"
   ]
  },
  {
   "cell_type": "code",
   "execution_count": 25,
   "id": "368216ed",
   "metadata": {
    "ExecuteTime": {
     "end_time": "2022-02-06T22:10:08.626912Z",
     "start_time": "2022-02-06T22:10:08.370485Z"
    }
   },
   "outputs": [
    {
     "data": {
      "text/plain": [
       "Timestamp('2021-03-26 00:00:00+0000', tz='UTC')"
      ]
     },
     "execution_count": 25,
     "metadata": {},
     "output_type": "execute_result"
    }
   ],
   "source": [
    "max(df.date)"
   ]
  },
  {
   "cell_type": "code",
   "execution_count": 26,
   "id": "1f79f59b",
   "metadata": {
    "ExecuteTime": {
     "end_time": "2022-02-06T22:10:09.196656Z",
     "start_time": "2022-02-06T22:10:08.863475Z"
    }
   },
   "outputs": [
    {
     "data": {
      "text/plain": [
       "Timestamp('1995-01-03 00:00:00+0000', tz='UTC')"
      ]
     },
     "execution_count": 26,
     "metadata": {},
     "output_type": "execute_result"
    }
   ],
   "source": [
    "min(df.date)"
   ]
  },
  {
   "cell_type": "code",
   "execution_count": 27,
   "id": "a9ce380a",
   "metadata": {
    "ExecuteTime": {
     "end_time": "2022-02-06T22:10:14.846655Z",
     "start_time": "2022-02-06T22:10:14.589735Z"
    }
   },
   "outputs": [
    {
     "name": "stderr",
     "output_type": "stream",
     "text": [
      "C:\\Users\\SOLOLE~1\\AppData\\Local\\Temp/ipykernel_23344/2231202990.py:1: DeprecationWarning: parsing timezone aware datetimes is deprecated; this will raise an error in the future\n",
      "  day = pd.to_datetime(np.datetime64(min(df.date))).tz_localize(None)\n"
     ]
    }
   ],
   "source": [
    "day = pd.to_datetime(np.datetime64(min(df.date))).tz_localize(None)"
   ]
  },
  {
   "cell_type": "code",
   "execution_count": 28,
   "id": "2aacea8c",
   "metadata": {
    "ExecuteTime": {
     "end_time": "2022-02-06T22:10:15.532041Z",
     "start_time": "2022-02-06T22:10:15.509952Z"
    }
   },
   "outputs": [],
   "source": [
    "df['date'] = df['date'].dt.tz_localize(None)"
   ]
  },
  {
   "cell_type": "code",
   "execution_count": 29,
   "id": "cb24d0c1",
   "metadata": {
    "ExecuteTime": {
     "end_time": "2022-02-06T22:10:24.118075Z",
     "start_time": "2022-02-06T22:10:24.097748Z"
    }
   },
   "outputs": [],
   "source": [
    "df['min_date'] = day"
   ]
  },
  {
   "cell_type": "code",
   "execution_count": 30,
   "id": "c3bb5b23",
   "metadata": {
    "ExecuteTime": {
     "end_time": "2022-02-06T22:10:26.096822Z",
     "start_time": "2022-02-06T22:10:26.068709Z"
    }
   },
   "outputs": [],
   "source": [
    "df['days_from_min_date'] = (df.date - df.min_date).dt.days"
   ]
  },
  {
   "cell_type": "code",
   "execution_count": 31,
   "id": "a10a0874",
   "metadata": {
    "ExecuteTime": {
     "end_time": "2022-02-06T22:10:27.030203Z",
     "start_time": "2022-02-06T22:10:26.944634Z"
    }
   },
   "outputs": [
    {
     "data": {
      "text/html": [
       "<div>\n",
       "<style scoped>\n",
       "    .dataframe tbody tr th:only-of-type {\n",
       "        vertical-align: middle;\n",
       "    }\n",
       "\n",
       "    .dataframe tbody tr th {\n",
       "        vertical-align: top;\n",
       "    }\n",
       "\n",
       "    .dataframe thead th {\n",
       "        text-align: right;\n",
       "    }\n",
       "</style>\n",
       "<table border=\"1\" class=\"dataframe\">\n",
       "  <thead>\n",
       "    <tr style=\"text-align: right;\">\n",
       "      <th></th>\n",
       "      <th>address</th>\n",
       "      <th>type</th>\n",
       "      <th>bedrooms</th>\n",
       "      <th>latitude</th>\n",
       "      <th>longitude</th>\n",
       "      <th>area</th>\n",
       "      <th>price</th>\n",
       "      <th>tenure</th>\n",
       "      <th>is_newbuild</th>\n",
       "      <th>date</th>\n",
       "      <th>road</th>\n",
       "      <th>min_date</th>\n",
       "      <th>days_from_min_date</th>\n",
       "    </tr>\n",
       "  </thead>\n",
       "  <tbody>\n",
       "    <tr>\n",
       "      <th>210291</th>\n",
       "      <td>flat a, 13, ulverstone road, london, greater l...</td>\n",
       "      <td>Flat</td>\n",
       "      <td>3</td>\n",
       "      <td>51.43683</td>\n",
       "      <td>-0.10650</td>\n",
       "      <td>SE27</td>\n",
       "      <td>340000</td>\n",
       "      <td>Leasehold</td>\n",
       "      <td>0</td>\n",
       "      <td>2017-11-10</td>\n",
       "      <td>Other</td>\n",
       "      <td>1995-01-03</td>\n",
       "      <td>8347</td>\n",
       "    </tr>\n",
       "    <tr>\n",
       "      <th>237670</th>\n",
       "      <td>24, hamilton road, london, greater london sw19...</td>\n",
       "      <td>Terraced</td>\n",
       "      <td>3</td>\n",
       "      <td>51.41704</td>\n",
       "      <td>-0.19174</td>\n",
       "      <td>SW19</td>\n",
       "      <td>780000</td>\n",
       "      <td>Freehold</td>\n",
       "      <td>0</td>\n",
       "      <td>2020-12-02</td>\n",
       "      <td>Other</td>\n",
       "      <td>1995-01-03</td>\n",
       "      <td>9465</td>\n",
       "    </tr>\n",
       "    <tr>\n",
       "      <th>42855</th>\n",
       "      <td>123, sutton court, london, greater london w4 3ef</td>\n",
       "      <td>Flat</td>\n",
       "      <td>3</td>\n",
       "      <td>51.48674</td>\n",
       "      <td>-0.26964</td>\n",
       "      <td>W4</td>\n",
       "      <td>675000</td>\n",
       "      <td>Leasehold</td>\n",
       "      <td>0</td>\n",
       "      <td>2019-06-07</td>\n",
       "      <td>Other</td>\n",
       "      <td>1995-01-03</td>\n",
       "      <td>8921</td>\n",
       "    </tr>\n",
       "    <tr>\n",
       "      <th>189207</th>\n",
       "      <td>86, queen mary road, upper norwood, london, gr...</td>\n",
       "      <td>Terraced</td>\n",
       "      <td>3</td>\n",
       "      <td>51.42158</td>\n",
       "      <td>-0.10353</td>\n",
       "      <td>SE19</td>\n",
       "      <td>40000</td>\n",
       "      <td>Freehold</td>\n",
       "      <td>0</td>\n",
       "      <td>1996-04-12</td>\n",
       "      <td>Other</td>\n",
       "      <td>1995-01-03</td>\n",
       "      <td>465</td>\n",
       "    </tr>\n",
       "  </tbody>\n",
       "</table>\n",
       "</div>"
      ],
      "text/plain": [
       "                                                  address      type  bedrooms  \\\n",
       "210291  flat a, 13, ulverstone road, london, greater l...      Flat         3   \n",
       "237670  24, hamilton road, london, greater london sw19...  Terraced         3   \n",
       "42855    123, sutton court, london, greater london w4 3ef      Flat         3   \n",
       "189207  86, queen mary road, upper norwood, london, gr...  Terraced         3   \n",
       "\n",
       "        latitude  longitude  area   price     tenure  is_newbuild       date  \\\n",
       "210291  51.43683   -0.10650  SE27  340000  Leasehold            0 2017-11-10   \n",
       "237670  51.41704   -0.19174  SW19  780000   Freehold            0 2020-12-02   \n",
       "42855   51.48674   -0.26964    W4  675000  Leasehold            0 2019-06-07   \n",
       "189207  51.42158   -0.10353  SE19   40000   Freehold            0 1996-04-12   \n",
       "\n",
       "         road   min_date  days_from_min_date  \n",
       "210291  Other 1995-01-03                8347  \n",
       "237670  Other 1995-01-03                9465  \n",
       "42855   Other 1995-01-03                8921  \n",
       "189207  Other 1995-01-03                 465  "
      ]
     },
     "execution_count": 31,
     "metadata": {},
     "output_type": "execute_result"
    }
   ],
   "source": [
    "df.sample(4)"
   ]
  },
  {
   "cell_type": "markdown",
   "id": "cbc50bba",
   "metadata": {
    "ExecuteTime": {
     "end_time": "2022-02-05T12:27:22.964822Z",
     "start_time": "2022-02-05T12:27:22.948044Z"
    }
   },
   "source": [
    "### Latitude Longitude to kilometers from center"
   ]
  },
  {
   "cell_type": "code",
   "execution_count": 32,
   "id": "a4022a9f",
   "metadata": {
    "ExecuteTime": {
     "end_time": "2022-02-06T22:10:44.096493Z",
     "start_time": "2022-02-06T22:10:44.082280Z"
    }
   },
   "outputs": [],
   "source": [
    "def distance_from_center(coordinate):\n",
    "    latitude = float(coordinate.split(',')[0])\n",
    "    longitude = float(coordinate.split(',')[1])\n",
    "    center = [51.509865, -0.118092]\n",
    "    coordinate = [latitude, longitude]\n",
    "    distance = geopy.distance.distance(center, coordinate).km\n",
    "    return distance"
   ]
  },
  {
   "cell_type": "code",
   "execution_count": 33,
   "id": "ea791be8",
   "metadata": {
    "ExecuteTime": {
     "end_time": "2022-02-06T22:10:45.078206Z",
     "start_time": "2022-02-06T22:10:44.772744Z"
    }
   },
   "outputs": [],
   "source": [
    "df['coordinate'] = df['latitude'].astype(str) + ',' + df['longitude'].astype(str)"
   ]
  },
  {
   "cell_type": "code",
   "execution_count": 34,
   "id": "64aa36ed",
   "metadata": {
    "ExecuteTime": {
     "end_time": "2022-02-06T22:11:24.264765Z",
     "start_time": "2022-02-06T22:10:45.628308Z"
    }
   },
   "outputs": [],
   "source": [
    "df['distance_from_center'] = df.coordinate.apply(distance_from_center)"
   ]
  },
  {
   "cell_type": "code",
   "execution_count": 35,
   "id": "454deb63",
   "metadata": {
    "ExecuteTime": {
     "end_time": "2022-02-06T22:11:24.431798Z",
     "start_time": "2022-02-06T22:11:24.419669Z"
    }
   },
   "outputs": [
    {
     "data": {
      "text/plain": [
       "19.097762996435154"
      ]
     },
     "execution_count": 35,
     "metadata": {},
     "output_type": "execute_result"
    }
   ],
   "source": [
    "df.distance_from_center.max()"
   ]
  },
  {
   "cell_type": "markdown",
   "id": "bd57698c",
   "metadata": {},
   "source": [
    "## Train test split and one_hot_encode"
   ]
  },
  {
   "cell_type": "code",
   "execution_count": 36,
   "id": "7fa18d19",
   "metadata": {
    "ExecuteTime": {
     "end_time": "2022-02-06T22:11:24.597080Z",
     "start_time": "2022-02-06T22:11:24.583220Z"
    }
   },
   "outputs": [
    {
     "data": {
      "text/plain": [
       "Index(['address', 'type', 'bedrooms', 'latitude', 'longitude', 'area', 'price',\n",
       "       'tenure', 'is_newbuild', 'date', 'road', 'min_date',\n",
       "       'days_from_min_date', 'coordinate', 'distance_from_center'],\n",
       "      dtype='object')"
      ]
     },
     "execution_count": 36,
     "metadata": {},
     "output_type": "execute_result"
    }
   ],
   "source": [
    "df.columns"
   ]
  },
  {
   "cell_type": "code",
   "execution_count": 37,
   "id": "6ed1d436",
   "metadata": {
    "ExecuteTime": {
     "end_time": "2022-02-06T22:11:40.863885Z",
     "start_time": "2022-02-06T22:11:40.764688Z"
    }
   },
   "outputs": [],
   "source": [
    "data = df.drop(['address','date', 'min_date','coordinate'],axis=1)"
   ]
  },
  {
   "cell_type": "code",
   "execution_count": 38,
   "id": "83d72657",
   "metadata": {
    "ExecuteTime": {
     "end_time": "2022-02-06T22:11:41.366864Z",
     "start_time": "2022-02-06T22:11:41.360506Z"
    }
   },
   "outputs": [],
   "source": [
    "# X = data.drop(['price'], axis=1)\n",
    "# y = data['price']"
   ]
  },
  {
   "cell_type": "code",
   "execution_count": 39,
   "id": "41884c66",
   "metadata": {
    "ExecuteTime": {
     "end_time": "2022-02-06T22:11:42.783502Z",
     "start_time": "2022-02-06T22:11:42.690667Z"
    }
   },
   "outputs": [],
   "source": [
    "train, test = train_test_split(data, test_size=0.3, random_state=42)\n",
    "val, test = train_test_split(test, test_size=0.5, random_state=42)"
   ]
  },
  {
   "cell_type": "code",
   "execution_count": 40,
   "id": "888aaa1f",
   "metadata": {
    "ExecuteTime": {
     "end_time": "2022-02-06T22:11:43.926820Z",
     "start_time": "2022-02-06T22:11:43.919011Z"
    }
   },
   "outputs": [
    {
     "data": {
      "text/plain": [
       "((154676, 11), (33145, 11))"
      ]
     },
     "execution_count": 40,
     "metadata": {},
     "output_type": "execute_result"
    }
   ],
   "source": [
    "train.shape, test.shape"
   ]
  },
  {
   "cell_type": "code",
   "execution_count": 41,
   "id": "72396b51",
   "metadata": {
    "ExecuteTime": {
     "end_time": "2022-02-06T22:11:44.397627Z",
     "start_time": "2022-02-06T22:11:44.389596Z"
    }
   },
   "outputs": [],
   "source": [
    "def one_hot_encode_fit_transform(data):\n",
    "    enc = OneHotEncoder(handle_unknown = 'ignore')\n",
    "    enc.fit(data[['type', 'area', 'tenure', 'road']])\n",
    "    encodings = enc.transform(data[['type', 'area', 'tenure', 'road']]).toarray()\n",
    "    cols = enc.get_feature_names()\n",
    "    one_hot_data = pd.DataFrame(data=encodings, columns=cols, index=data.index)\n",
    "    data = data.drop(['type', 'area', 'tenure', 'road'], axis=1)\n",
    "    data = data.join(one_hot_data)\n",
    "    with open(\"encoder\", \"wb\") as f: \n",
    "        pickle.dump(enc, f)\n",
    "    return data"
   ]
  },
  {
   "cell_type": "code",
   "execution_count": 42,
   "id": "f76ac0f7",
   "metadata": {
    "ExecuteTime": {
     "end_time": "2022-02-06T22:11:45.014721Z",
     "start_time": "2022-02-06T22:11:45.004380Z"
    }
   },
   "outputs": [],
   "source": [
    "def one_hot_encode_transform(data):\n",
    "    with open(\"encoder\", \"rb\") as f:\n",
    "        enc = pickle.load(f)\n",
    "    encodings = enc.transform(data[['type', 'area', 'tenure', 'road']]).toarray()\n",
    "    cols = enc.get_feature_names()\n",
    "    one_hot_data = pd.DataFrame(data=encodings, columns=cols, index=data.index)\n",
    "    data = data.drop(['type', 'area', 'tenure', 'road'], axis=1)\n",
    "    data = data.join(one_hot_data)\n",
    "    return data"
   ]
  },
  {
   "cell_type": "code",
   "execution_count": 43,
   "id": "882b69bf",
   "metadata": {
    "ExecuteTime": {
     "end_time": "2022-02-06T22:11:55.341594Z",
     "start_time": "2022-02-06T22:11:54.809538Z"
    }
   },
   "outputs": [],
   "source": [
    "train = one_hot_encode_fit_transform(train)"
   ]
  },
  {
   "cell_type": "code",
   "execution_count": 44,
   "id": "51664a19",
   "metadata": {
    "ExecuteTime": {
     "end_time": "2022-02-06T22:11:56.363759Z",
     "start_time": "2022-02-06T22:11:56.164636Z"
    }
   },
   "outputs": [],
   "source": [
    "test = one_hot_encode_transform(test)\n",
    "val = one_hot_encode_transform(val)"
   ]
  },
  {
   "cell_type": "code",
   "execution_count": 45,
   "id": "a7c47bd1",
   "metadata": {
    "ExecuteTime": {
     "end_time": "2022-02-06T22:11:57.455042Z",
     "start_time": "2022-02-06T22:11:57.413145Z"
    }
   },
   "outputs": [
    {
     "data": {
      "text/html": [
       "<div>\n",
       "<style scoped>\n",
       "    .dataframe tbody tr th:only-of-type {\n",
       "        vertical-align: middle;\n",
       "    }\n",
       "\n",
       "    .dataframe tbody tr th {\n",
       "        vertical-align: top;\n",
       "    }\n",
       "\n",
       "    .dataframe thead th {\n",
       "        text-align: right;\n",
       "    }\n",
       "</style>\n",
       "<table border=\"1\" class=\"dataframe\">\n",
       "  <thead>\n",
       "    <tr style=\"text-align: right;\">\n",
       "      <th></th>\n",
       "      <th>bedrooms</th>\n",
       "      <th>latitude</th>\n",
       "      <th>longitude</th>\n",
       "      <th>price</th>\n",
       "      <th>is_newbuild</th>\n",
       "      <th>days_from_min_date</th>\n",
       "      <th>distance_from_center</th>\n",
       "      <th>x0_Detached</th>\n",
       "      <th>x0_Flat</th>\n",
       "      <th>x0_Semi-Detached</th>\n",
       "      <th>...</th>\n",
       "      <th>x1_W8</th>\n",
       "      <th>x1_W9</th>\n",
       "      <th>x2_Freehold</th>\n",
       "      <th>x2_Leasehold</th>\n",
       "      <th>x3_Other</th>\n",
       "      <th>x3_green road</th>\n",
       "      <th>x3_high road</th>\n",
       "      <th>x3_high street</th>\n",
       "      <th>x3_hill road</th>\n",
       "      <th>x3_park road</th>\n",
       "    </tr>\n",
       "  </thead>\n",
       "  <tbody>\n",
       "    <tr>\n",
       "      <th>6259</th>\n",
       "      <td>3</td>\n",
       "      <td>51.61917</td>\n",
       "      <td>-0.00704</td>\n",
       "      <td>110000</td>\n",
       "      <td>0</td>\n",
       "      <td>1284</td>\n",
       "      <td>14.394216</td>\n",
       "      <td>0.0</td>\n",
       "      <td>0.0</td>\n",
       "      <td>1.0</td>\n",
       "      <td>...</td>\n",
       "      <td>0.0</td>\n",
       "      <td>0.0</td>\n",
       "      <td>1.0</td>\n",
       "      <td>0.0</td>\n",
       "      <td>1.0</td>\n",
       "      <td>0.0</td>\n",
       "      <td>0.0</td>\n",
       "      <td>0.0</td>\n",
       "      <td>0.0</td>\n",
       "      <td>0.0</td>\n",
       "    </tr>\n",
       "    <tr>\n",
       "      <th>105328</th>\n",
       "      <td>3</td>\n",
       "      <td>51.54970</td>\n",
       "      <td>-0.17552</td>\n",
       "      <td>305000</td>\n",
       "      <td>0</td>\n",
       "      <td>2304</td>\n",
       "      <td>5.960242</td>\n",
       "      <td>0.0</td>\n",
       "      <td>1.0</td>\n",
       "      <td>0.0</td>\n",
       "      <td>...</td>\n",
       "      <td>0.0</td>\n",
       "      <td>0.0</td>\n",
       "      <td>0.0</td>\n",
       "      <td>1.0</td>\n",
       "      <td>1.0</td>\n",
       "      <td>0.0</td>\n",
       "      <td>0.0</td>\n",
       "      <td>0.0</td>\n",
       "      <td>0.0</td>\n",
       "      <td>0.0</td>\n",
       "    </tr>\n",
       "  </tbody>\n",
       "</table>\n",
       "<p>2 rows × 131 columns</p>\n",
       "</div>"
      ],
      "text/plain": [
       "        bedrooms  latitude  longitude   price  is_newbuild  \\\n",
       "6259           3  51.61917   -0.00704  110000            0   \n",
       "105328         3  51.54970   -0.17552  305000            0   \n",
       "\n",
       "        days_from_min_date  distance_from_center  x0_Detached  x0_Flat  \\\n",
       "6259                  1284             14.394216          0.0      0.0   \n",
       "105328                2304              5.960242          0.0      1.0   \n",
       "\n",
       "        x0_Semi-Detached  ...  x1_W8  x1_W9  x2_Freehold  x2_Leasehold  \\\n",
       "6259                 1.0  ...    0.0    0.0          1.0           0.0   \n",
       "105328               0.0  ...    0.0    0.0          0.0           1.0   \n",
       "\n",
       "        x3_Other  x3_green road  x3_high road  x3_high street  x3_hill road  \\\n",
       "6259         1.0            0.0           0.0             0.0           0.0   \n",
       "105328       1.0            0.0           0.0             0.0           0.0   \n",
       "\n",
       "        x3_park road  \n",
       "6259             0.0  \n",
       "105328           0.0  \n",
       "\n",
       "[2 rows x 131 columns]"
      ]
     },
     "execution_count": 45,
     "metadata": {},
     "output_type": "execute_result"
    }
   ],
   "source": [
    "train.head(2)"
   ]
  },
  {
   "cell_type": "code",
   "execution_count": 46,
   "id": "0da0ecd7",
   "metadata": {
    "ExecuteTime": {
     "end_time": "2022-02-06T22:11:58.063738Z",
     "start_time": "2022-02-06T22:11:58.034203Z"
    }
   },
   "outputs": [
    {
     "data": {
      "text/html": [
       "<div>\n",
       "<style scoped>\n",
       "    .dataframe tbody tr th:only-of-type {\n",
       "        vertical-align: middle;\n",
       "    }\n",
       "\n",
       "    .dataframe tbody tr th {\n",
       "        vertical-align: top;\n",
       "    }\n",
       "\n",
       "    .dataframe thead th {\n",
       "        text-align: right;\n",
       "    }\n",
       "</style>\n",
       "<table border=\"1\" class=\"dataframe\">\n",
       "  <thead>\n",
       "    <tr style=\"text-align: right;\">\n",
       "      <th></th>\n",
       "      <th>bedrooms</th>\n",
       "      <th>latitude</th>\n",
       "      <th>longitude</th>\n",
       "      <th>price</th>\n",
       "      <th>is_newbuild</th>\n",
       "      <th>days_from_min_date</th>\n",
       "      <th>distance_from_center</th>\n",
       "      <th>x0_Detached</th>\n",
       "      <th>x0_Flat</th>\n",
       "      <th>x0_Semi-Detached</th>\n",
       "      <th>...</th>\n",
       "      <th>x1_W8</th>\n",
       "      <th>x1_W9</th>\n",
       "      <th>x2_Freehold</th>\n",
       "      <th>x2_Leasehold</th>\n",
       "      <th>x3_Other</th>\n",
       "      <th>x3_green road</th>\n",
       "      <th>x3_high road</th>\n",
       "      <th>x3_high street</th>\n",
       "      <th>x3_hill road</th>\n",
       "      <th>x3_park road</th>\n",
       "    </tr>\n",
       "  </thead>\n",
       "  <tbody>\n",
       "    <tr>\n",
       "      <th>240876</th>\n",
       "      <td>2</td>\n",
       "      <td>51.41046</td>\n",
       "      <td>-0.21414</td>\n",
       "      <td>620000</td>\n",
       "      <td>0</td>\n",
       "      <td>8954</td>\n",
       "      <td>12.917977</td>\n",
       "      <td>0.0</td>\n",
       "      <td>1.0</td>\n",
       "      <td>0.0</td>\n",
       "      <td>...</td>\n",
       "      <td>0.0</td>\n",
       "      <td>0.0</td>\n",
       "      <td>0.0</td>\n",
       "      <td>1.0</td>\n",
       "      <td>1.0</td>\n",
       "      <td>0.0</td>\n",
       "      <td>0.0</td>\n",
       "      <td>0.0</td>\n",
       "      <td>0.0</td>\n",
       "      <td>0.0</td>\n",
       "    </tr>\n",
       "    <tr>\n",
       "      <th>143471</th>\n",
       "      <td>4</td>\n",
       "      <td>51.46698</td>\n",
       "      <td>-0.14225</td>\n",
       "      <td>560000</td>\n",
       "      <td>0</td>\n",
       "      <td>3796</td>\n",
       "      <td>5.057738</td>\n",
       "      <td>0.0</td>\n",
       "      <td>0.0</td>\n",
       "      <td>1.0</td>\n",
       "      <td>...</td>\n",
       "      <td>0.0</td>\n",
       "      <td>0.0</td>\n",
       "      <td>1.0</td>\n",
       "      <td>0.0</td>\n",
       "      <td>1.0</td>\n",
       "      <td>0.0</td>\n",
       "      <td>0.0</td>\n",
       "      <td>0.0</td>\n",
       "      <td>0.0</td>\n",
       "      <td>0.0</td>\n",
       "    </tr>\n",
       "    <tr>\n",
       "      <th>7966</th>\n",
       "      <td>3</td>\n",
       "      <td>51.55665</td>\n",
       "      <td>-0.05969</td>\n",
       "      <td>301000</td>\n",
       "      <td>0</td>\n",
       "      <td>9332</td>\n",
       "      <td>6.596760</td>\n",
       "      <td>0.0</td>\n",
       "      <td>1.0</td>\n",
       "      <td>0.0</td>\n",
       "      <td>...</td>\n",
       "      <td>0.0</td>\n",
       "      <td>0.0</td>\n",
       "      <td>0.0</td>\n",
       "      <td>1.0</td>\n",
       "      <td>1.0</td>\n",
       "      <td>0.0</td>\n",
       "      <td>0.0</td>\n",
       "      <td>0.0</td>\n",
       "      <td>0.0</td>\n",
       "      <td>0.0</td>\n",
       "    </tr>\n",
       "    <tr>\n",
       "      <th>66478</th>\n",
       "      <td>2</td>\n",
       "      <td>51.49957</td>\n",
       "      <td>0.02609</td>\n",
       "      <td>417950</td>\n",
       "      <td>1</td>\n",
       "      <td>9278</td>\n",
       "      <td>10.076349</td>\n",
       "      <td>0.0</td>\n",
       "      <td>1.0</td>\n",
       "      <td>0.0</td>\n",
       "      <td>...</td>\n",
       "      <td>0.0</td>\n",
       "      <td>0.0</td>\n",
       "      <td>0.0</td>\n",
       "      <td>1.0</td>\n",
       "      <td>1.0</td>\n",
       "      <td>0.0</td>\n",
       "      <td>0.0</td>\n",
       "      <td>0.0</td>\n",
       "      <td>0.0</td>\n",
       "      <td>0.0</td>\n",
       "    </tr>\n",
       "    <tr>\n",
       "      <th>41043</th>\n",
       "      <td>4</td>\n",
       "      <td>51.50583</td>\n",
       "      <td>-0.27742</td>\n",
       "      <td>137500</td>\n",
       "      <td>0</td>\n",
       "      <td>514</td>\n",
       "      <td>11.071022</td>\n",
       "      <td>0.0</td>\n",
       "      <td>0.0</td>\n",
       "      <td>0.0</td>\n",
       "      <td>...</td>\n",
       "      <td>0.0</td>\n",
       "      <td>0.0</td>\n",
       "      <td>1.0</td>\n",
       "      <td>0.0</td>\n",
       "      <td>0.0</td>\n",
       "      <td>0.0</td>\n",
       "      <td>0.0</td>\n",
       "      <td>0.0</td>\n",
       "      <td>1.0</td>\n",
       "      <td>0.0</td>\n",
       "    </tr>\n",
       "  </tbody>\n",
       "</table>\n",
       "<p>5 rows × 131 columns</p>\n",
       "</div>"
      ],
      "text/plain": [
       "        bedrooms  latitude  longitude   price  is_newbuild  \\\n",
       "240876         2  51.41046   -0.21414  620000            0   \n",
       "143471         4  51.46698   -0.14225  560000            0   \n",
       "7966           3  51.55665   -0.05969  301000            0   \n",
       "66478          2  51.49957    0.02609  417950            1   \n",
       "41043          4  51.50583   -0.27742  137500            0   \n",
       "\n",
       "        days_from_min_date  distance_from_center  x0_Detached  x0_Flat  \\\n",
       "240876                8954             12.917977          0.0      1.0   \n",
       "143471                3796              5.057738          0.0      0.0   \n",
       "7966                  9332              6.596760          0.0      1.0   \n",
       "66478                 9278             10.076349          0.0      1.0   \n",
       "41043                  514             11.071022          0.0      0.0   \n",
       "\n",
       "        x0_Semi-Detached  ...  x1_W8  x1_W9  x2_Freehold  x2_Leasehold  \\\n",
       "240876               0.0  ...    0.0    0.0          0.0           1.0   \n",
       "143471               1.0  ...    0.0    0.0          1.0           0.0   \n",
       "7966                 0.0  ...    0.0    0.0          0.0           1.0   \n",
       "66478                0.0  ...    0.0    0.0          0.0           1.0   \n",
       "41043                0.0  ...    0.0    0.0          1.0           0.0   \n",
       "\n",
       "        x3_Other  x3_green road  x3_high road  x3_high street  x3_hill road  \\\n",
       "240876       1.0            0.0           0.0             0.0           0.0   \n",
       "143471       1.0            0.0           0.0             0.0           0.0   \n",
       "7966         1.0            0.0           0.0             0.0           0.0   \n",
       "66478        1.0            0.0           0.0             0.0           0.0   \n",
       "41043        0.0            0.0           0.0             0.0           1.0   \n",
       "\n",
       "        x3_park road  \n",
       "240876           0.0  \n",
       "143471           0.0  \n",
       "7966             0.0  \n",
       "66478            0.0  \n",
       "41043            0.0  \n",
       "\n",
       "[5 rows x 131 columns]"
      ]
     },
     "execution_count": 46,
     "metadata": {},
     "output_type": "execute_result"
    }
   ],
   "source": [
    "test.head(5)"
   ]
  },
  {
   "cell_type": "code",
   "execution_count": 47,
   "id": "9ca0cdf1",
   "metadata": {
    "ExecuteTime": {
     "end_time": "2022-02-06T22:11:59.686666Z",
     "start_time": "2022-02-06T22:11:59.654484Z"
    }
   },
   "outputs": [],
   "source": [
    "bedrooms_mean = train.bedrooms.mean()\n",
    "bedrooms_std = train.bedrooms.std()\n",
    "latitude_mean = train.latitude.mean()\n",
    "latitude_std = train.latitude.std()\n",
    "longitude_mean = train.longitude.mean()\n",
    "longitude_std = train.longitude.std()\n",
    "days_from_min_date_mean = train.days_from_min_date.mean()\n",
    "days_from_min_date_std = train.days_from_min_date.std()\n",
    "distance_from_center_mean = train.distance_from_center.mean()\n",
    "distance_from_center_std = train.distance_from_center.std()"
   ]
  },
  {
   "cell_type": "code",
   "execution_count": 48,
   "id": "bcf3f093",
   "metadata": {
    "ExecuteTime": {
     "end_time": "2022-02-06T22:12:00.681872Z",
     "start_time": "2022-02-06T22:12:00.669752Z"
    }
   },
   "outputs": [
    {
     "name": "stdout",
     "output_type": "stream",
     "text": [
      "2.6061767824355426 ===== 1.1694933172332571 ===== 51.51417806518142 ===== 0.06153182726811449 ===== -0.10760776920789263 ===== 0.09535970982651915 ===== 6157.339425638108 ===== 3006.2284278681286 ===== 8.967594045364942 ===== 3.3223895064504845\n"
     ]
    }
   ],
   "source": [
    "print(bedrooms_mean,\n",
    "      '=====',\n",
    "      bedrooms_std,\n",
    "      '=====',\n",
    "      latitude_mean,\n",
    "      '=====',\n",
    "      latitude_std, \n",
    "      '=====',\n",
    "      longitude_mean, \n",
    "      '=====',\n",
    "      longitude_std, \n",
    "      '=====',\n",
    "      days_from_min_date_mean, \n",
    "      '=====',\n",
    "      days_from_min_date_std,\n",
    "      '=====',\n",
    "      distance_from_center_mean,\n",
    "      '=====',\n",
    "      distance_from_center_std)"
   ]
  },
  {
   "cell_type": "code",
   "execution_count": 49,
   "id": "30441507",
   "metadata": {
    "ExecuteTime": {
     "end_time": "2022-02-06T22:12:04.610215Z",
     "start_time": "2022-02-06T22:12:04.598267Z"
    }
   },
   "outputs": [],
   "source": [
    "def normalize(data):\n",
    "    data.bedrooms = (data.bedrooms - bedrooms_mean) / bedrooms_std\n",
    "    data.latitude = (data.latitude - latitude_mean) / latitude_std\n",
    "    data.longitude = (data.longitude - longitude_mean) / longitude_std\n",
    "    data.days_from_min_date = (data.days_from_min_date - days_from_min_date_mean) / days_from_min_date_std\n",
    "    data.distance_from_center = (data.distance_from_center - distance_from_center_mean) / distance_from_center_std\n",
    "    return data"
   ]
  },
  {
   "cell_type": "code",
   "execution_count": 50,
   "id": "b308b0be",
   "metadata": {
    "ExecuteTime": {
     "end_time": "2022-02-06T22:12:05.935053Z",
     "start_time": "2022-02-06T22:12:05.906482Z"
    }
   },
   "outputs": [],
   "source": [
    "train = normalize(train)\n",
    "test = normalize(test)\n",
    "val = normalize(val)"
   ]
  },
  {
   "cell_type": "code",
   "execution_count": 51,
   "id": "0a416b04",
   "metadata": {
    "ExecuteTime": {
     "end_time": "2022-02-06T22:12:06.682769Z",
     "start_time": "2022-02-06T22:12:06.592442Z"
    }
   },
   "outputs": [
    {
     "data": {
      "text/html": [
       "<div>\n",
       "<style scoped>\n",
       "    .dataframe tbody tr th:only-of-type {\n",
       "        vertical-align: middle;\n",
       "    }\n",
       "\n",
       "    .dataframe tbody tr th {\n",
       "        vertical-align: top;\n",
       "    }\n",
       "\n",
       "    .dataframe thead th {\n",
       "        text-align: right;\n",
       "    }\n",
       "</style>\n",
       "<table border=\"1\" class=\"dataframe\">\n",
       "  <thead>\n",
       "    <tr style=\"text-align: right;\">\n",
       "      <th></th>\n",
       "      <th>bedrooms</th>\n",
       "      <th>latitude</th>\n",
       "      <th>longitude</th>\n",
       "      <th>price</th>\n",
       "      <th>is_newbuild</th>\n",
       "      <th>days_from_min_date</th>\n",
       "      <th>distance_from_center</th>\n",
       "      <th>x0_Detached</th>\n",
       "      <th>x0_Flat</th>\n",
       "      <th>x0_Semi-Detached</th>\n",
       "      <th>...</th>\n",
       "      <th>x1_W8</th>\n",
       "      <th>x1_W9</th>\n",
       "      <th>x2_Freehold</th>\n",
       "      <th>x2_Leasehold</th>\n",
       "      <th>x3_Other</th>\n",
       "      <th>x3_green road</th>\n",
       "      <th>x3_high road</th>\n",
       "      <th>x3_high street</th>\n",
       "      <th>x3_hill road</th>\n",
       "      <th>x3_park road</th>\n",
       "    </tr>\n",
       "  </thead>\n",
       "  <tbody>\n",
       "    <tr>\n",
       "      <th>6259</th>\n",
       "      <td>0.336747</td>\n",
       "      <td>1.706303</td>\n",
       "      <td>1.054615</td>\n",
       "      <td>110000</td>\n",
       "      <td>0</td>\n",
       "      <td>-1.621081</td>\n",
       "      <td>1.633349</td>\n",
       "      <td>0.0</td>\n",
       "      <td>0.0</td>\n",
       "      <td>1.0</td>\n",
       "      <td>...</td>\n",
       "      <td>0.0</td>\n",
       "      <td>0.0</td>\n",
       "      <td>1.0</td>\n",
       "      <td>0.0</td>\n",
       "      <td>1.0</td>\n",
       "      <td>0.0</td>\n",
       "      <td>0.0</td>\n",
       "      <td>0.0</td>\n",
       "      <td>0.0</td>\n",
       "      <td>0.0</td>\n",
       "    </tr>\n",
       "    <tr>\n",
       "      <th>105328</th>\n",
       "      <td>0.336747</td>\n",
       "      <td>0.577294</td>\n",
       "      <td>-0.712169</td>\n",
       "      <td>305000</td>\n",
       "      <td>0</td>\n",
       "      <td>-1.281785</td>\n",
       "      <td>-0.905177</td>\n",
       "      <td>0.0</td>\n",
       "      <td>1.0</td>\n",
       "      <td>0.0</td>\n",
       "      <td>...</td>\n",
       "      <td>0.0</td>\n",
       "      <td>0.0</td>\n",
       "      <td>0.0</td>\n",
       "      <td>1.0</td>\n",
       "      <td>1.0</td>\n",
       "      <td>0.0</td>\n",
       "      <td>0.0</td>\n",
       "      <td>0.0</td>\n",
       "      <td>0.0</td>\n",
       "      <td>0.0</td>\n",
       "    </tr>\n",
       "    <tr>\n",
       "      <th>99882</th>\n",
       "      <td>1.191818</td>\n",
       "      <td>1.493567</td>\n",
       "      <td>0.002074</td>\n",
       "      <td>389995</td>\n",
       "      <td>0</td>\n",
       "      <td>0.407042</td>\n",
       "      <td>0.530578</td>\n",
       "      <td>0.0</td>\n",
       "      <td>0.0</td>\n",
       "      <td>1.0</td>\n",
       "      <td>...</td>\n",
       "      <td>0.0</td>\n",
       "      <td>0.0</td>\n",
       "      <td>0.0</td>\n",
       "      <td>1.0</td>\n",
       "      <td>1.0</td>\n",
       "      <td>0.0</td>\n",
       "      <td>0.0</td>\n",
       "      <td>0.0</td>\n",
       "      <td>0.0</td>\n",
       "      <td>0.0</td>\n",
       "    </tr>\n",
       "    <tr>\n",
       "      <th>96654</th>\n",
       "      <td>-0.518324</td>\n",
       "      <td>1.971857</td>\n",
       "      <td>0.046747</td>\n",
       "      <td>410000</td>\n",
       "      <td>0</td>\n",
       "      <td>0.222758</td>\n",
       "      <td>1.519961</td>\n",
       "      <td>0.0</td>\n",
       "      <td>0.0</td>\n",
       "      <td>0.0</td>\n",
       "      <td>...</td>\n",
       "      <td>0.0</td>\n",
       "      <td>0.0</td>\n",
       "      <td>1.0</td>\n",
       "      <td>0.0</td>\n",
       "      <td>1.0</td>\n",
       "      <td>0.0</td>\n",
       "      <td>0.0</td>\n",
       "      <td>0.0</td>\n",
       "      <td>0.0</td>\n",
       "      <td>0.0</td>\n",
       "    </tr>\n",
       "    <tr>\n",
       "      <th>184712</th>\n",
       "      <td>-1.373395</td>\n",
       "      <td>-0.115681</td>\n",
       "      <td>0.701006</td>\n",
       "      <td>470000</td>\n",
       "      <td>0</td>\n",
       "      <td>1.081309</td>\n",
       "      <td>-1.080413</td>\n",
       "      <td>0.0</td>\n",
       "      <td>1.0</td>\n",
       "      <td>0.0</td>\n",
       "      <td>...</td>\n",
       "      <td>0.0</td>\n",
       "      <td>0.0</td>\n",
       "      <td>0.0</td>\n",
       "      <td>1.0</td>\n",
       "      <td>1.0</td>\n",
       "      <td>0.0</td>\n",
       "      <td>0.0</td>\n",
       "      <td>0.0</td>\n",
       "      <td>0.0</td>\n",
       "      <td>0.0</td>\n",
       "    </tr>\n",
       "    <tr>\n",
       "      <th>...</th>\n",
       "      <td>...</td>\n",
       "      <td>...</td>\n",
       "      <td>...</td>\n",
       "      <td>...</td>\n",
       "      <td>...</td>\n",
       "      <td>...</td>\n",
       "      <td>...</td>\n",
       "      <td>...</td>\n",
       "      <td>...</td>\n",
       "      <td>...</td>\n",
       "      <td>...</td>\n",
       "      <td>...</td>\n",
       "      <td>...</td>\n",
       "      <td>...</td>\n",
       "      <td>...</td>\n",
       "      <td>...</td>\n",
       "      <td>...</td>\n",
       "      <td>...</td>\n",
       "      <td>...</td>\n",
       "      <td>...</td>\n",
       "      <td>...</td>\n",
       "    </tr>\n",
       "    <tr>\n",
       "      <th>129417</th>\n",
       "      <td>1.191818</td>\n",
       "      <td>-1.150755</td>\n",
       "      <td>1.156859</td>\n",
       "      <td>345000</td>\n",
       "      <td>0</td>\n",
       "      <td>0.025168</td>\n",
       "      <td>0.668312</td>\n",
       "      <td>0.0</td>\n",
       "      <td>0.0</td>\n",
       "      <td>0.0</td>\n",
       "      <td>...</td>\n",
       "      <td>0.0</td>\n",
       "      <td>0.0</td>\n",
       "      <td>1.0</td>\n",
       "      <td>0.0</td>\n",
       "      <td>1.0</td>\n",
       "      <td>0.0</td>\n",
       "      <td>0.0</td>\n",
       "      <td>0.0</td>\n",
       "      <td>0.0</td>\n",
       "      <td>0.0</td>\n",
       "    </tr>\n",
       "    <tr>\n",
       "      <th>111816</th>\n",
       "      <td>-1.373395</td>\n",
       "      <td>0.415589</td>\n",
       "      <td>-0.860030</td>\n",
       "      <td>650000</td>\n",
       "      <td>0</td>\n",
       "      <td>0.944925</td>\n",
       "      <td>-0.900775</td>\n",
       "      <td>0.0</td>\n",
       "      <td>1.0</td>\n",
       "      <td>0.0</td>\n",
       "      <td>...</td>\n",
       "      <td>0.0</td>\n",
       "      <td>0.0</td>\n",
       "      <td>0.0</td>\n",
       "      <td>1.0</td>\n",
       "      <td>1.0</td>\n",
       "      <td>0.0</td>\n",
       "      <td>0.0</td>\n",
       "      <td>0.0</td>\n",
       "      <td>0.0</td>\n",
       "      <td>0.0</td>\n",
       "    </tr>\n",
       "    <tr>\n",
       "      <th>142558</th>\n",
       "      <td>1.191818</td>\n",
       "      <td>-1.026917</td>\n",
       "      <td>-0.252331</td>\n",
       "      <td>565510</td>\n",
       "      <td>1</td>\n",
       "      <td>0.971536</td>\n",
       "      <td>-0.707245</td>\n",
       "      <td>0.0</td>\n",
       "      <td>1.0</td>\n",
       "      <td>0.0</td>\n",
       "      <td>...</td>\n",
       "      <td>0.0</td>\n",
       "      <td>0.0</td>\n",
       "      <td>0.0</td>\n",
       "      <td>1.0</td>\n",
       "      <td>1.0</td>\n",
       "      <td>0.0</td>\n",
       "      <td>0.0</td>\n",
       "      <td>0.0</td>\n",
       "      <td>0.0</td>\n",
       "      <td>0.0</td>\n",
       "    </tr>\n",
       "    <tr>\n",
       "      <th>160937</th>\n",
       "      <td>1.191818</td>\n",
       "      <td>-0.133720</td>\n",
       "      <td>-1.362129</td>\n",
       "      <td>250000</td>\n",
       "      <td>0</td>\n",
       "      <td>-0.114542</td>\n",
       "      <td>-0.200411</td>\n",
       "      <td>0.0</td>\n",
       "      <td>1.0</td>\n",
       "      <td>0.0</td>\n",
       "      <td>...</td>\n",
       "      <td>0.0</td>\n",
       "      <td>0.0</td>\n",
       "      <td>0.0</td>\n",
       "      <td>1.0</td>\n",
       "      <td>1.0</td>\n",
       "      <td>0.0</td>\n",
       "      <td>0.0</td>\n",
       "      <td>0.0</td>\n",
       "      <td>0.0</td>\n",
       "      <td>0.0</td>\n",
       "    </tr>\n",
       "    <tr>\n",
       "      <th>131500</th>\n",
       "      <td>0.336747</td>\n",
       "      <td>-0.482646</td>\n",
       "      <td>1.423429</td>\n",
       "      <td>600000</td>\n",
       "      <td>0</td>\n",
       "      <td>0.642220</td>\n",
       "      <td>0.473217</td>\n",
       "      <td>0.0</td>\n",
       "      <td>0.0</td>\n",
       "      <td>0.0</td>\n",
       "      <td>...</td>\n",
       "      <td>0.0</td>\n",
       "      <td>0.0</td>\n",
       "      <td>1.0</td>\n",
       "      <td>0.0</td>\n",
       "      <td>1.0</td>\n",
       "      <td>0.0</td>\n",
       "      <td>0.0</td>\n",
       "      <td>0.0</td>\n",
       "      <td>0.0</td>\n",
       "      <td>0.0</td>\n",
       "    </tr>\n",
       "  </tbody>\n",
       "</table>\n",
       "<p>154676 rows × 131 columns</p>\n",
       "</div>"
      ],
      "text/plain": [
       "        bedrooms  latitude  longitude   price  is_newbuild  \\\n",
       "6259    0.336747  1.706303   1.054615  110000            0   \n",
       "105328  0.336747  0.577294  -0.712169  305000            0   \n",
       "99882   1.191818  1.493567   0.002074  389995            0   \n",
       "96654  -0.518324  1.971857   0.046747  410000            0   \n",
       "184712 -1.373395 -0.115681   0.701006  470000            0   \n",
       "...          ...       ...        ...     ...          ...   \n",
       "129417  1.191818 -1.150755   1.156859  345000            0   \n",
       "111816 -1.373395  0.415589  -0.860030  650000            0   \n",
       "142558  1.191818 -1.026917  -0.252331  565510            1   \n",
       "160937  1.191818 -0.133720  -1.362129  250000            0   \n",
       "131500  0.336747 -0.482646   1.423429  600000            0   \n",
       "\n",
       "        days_from_min_date  distance_from_center  x0_Detached  x0_Flat  \\\n",
       "6259             -1.621081              1.633349          0.0      0.0   \n",
       "105328           -1.281785             -0.905177          0.0      1.0   \n",
       "99882             0.407042              0.530578          0.0      0.0   \n",
       "96654             0.222758              1.519961          0.0      0.0   \n",
       "184712            1.081309             -1.080413          0.0      1.0   \n",
       "...                    ...                   ...          ...      ...   \n",
       "129417            0.025168              0.668312          0.0      0.0   \n",
       "111816            0.944925             -0.900775          0.0      1.0   \n",
       "142558            0.971536             -0.707245          0.0      1.0   \n",
       "160937           -0.114542             -0.200411          0.0      1.0   \n",
       "131500            0.642220              0.473217          0.0      0.0   \n",
       "\n",
       "        x0_Semi-Detached  ...  x1_W8  x1_W9  x2_Freehold  x2_Leasehold  \\\n",
       "6259                 1.0  ...    0.0    0.0          1.0           0.0   \n",
       "105328               0.0  ...    0.0    0.0          0.0           1.0   \n",
       "99882                1.0  ...    0.0    0.0          0.0           1.0   \n",
       "96654                0.0  ...    0.0    0.0          1.0           0.0   \n",
       "184712               0.0  ...    0.0    0.0          0.0           1.0   \n",
       "...                  ...  ...    ...    ...          ...           ...   \n",
       "129417               0.0  ...    0.0    0.0          1.0           0.0   \n",
       "111816               0.0  ...    0.0    0.0          0.0           1.0   \n",
       "142558               0.0  ...    0.0    0.0          0.0           1.0   \n",
       "160937               0.0  ...    0.0    0.0          0.0           1.0   \n",
       "131500               0.0  ...    0.0    0.0          1.0           0.0   \n",
       "\n",
       "        x3_Other  x3_green road  x3_high road  x3_high street  x3_hill road  \\\n",
       "6259         1.0            0.0           0.0             0.0           0.0   \n",
       "105328       1.0            0.0           0.0             0.0           0.0   \n",
       "99882        1.0            0.0           0.0             0.0           0.0   \n",
       "96654        1.0            0.0           0.0             0.0           0.0   \n",
       "184712       1.0            0.0           0.0             0.0           0.0   \n",
       "...          ...            ...           ...             ...           ...   \n",
       "129417       1.0            0.0           0.0             0.0           0.0   \n",
       "111816       1.0            0.0           0.0             0.0           0.0   \n",
       "142558       1.0            0.0           0.0             0.0           0.0   \n",
       "160937       1.0            0.0           0.0             0.0           0.0   \n",
       "131500       1.0            0.0           0.0             0.0           0.0   \n",
       "\n",
       "        x3_park road  \n",
       "6259             0.0  \n",
       "105328           0.0  \n",
       "99882            0.0  \n",
       "96654            0.0  \n",
       "184712           0.0  \n",
       "...              ...  \n",
       "129417           0.0  \n",
       "111816           0.0  \n",
       "142558           0.0  \n",
       "160937           0.0  \n",
       "131500           0.0  \n",
       "\n",
       "[154676 rows x 131 columns]"
      ]
     },
     "execution_count": 51,
     "metadata": {},
     "output_type": "execute_result"
    }
   ],
   "source": [
    "train"
   ]
  },
  {
   "cell_type": "code",
   "execution_count": 52,
   "id": "0137f5ef",
   "metadata": {
    "ExecuteTime": {
     "end_time": "2022-02-06T22:12:14.547227Z",
     "start_time": "2022-02-06T22:12:14.537087Z"
    }
   },
   "outputs": [],
   "source": [
    "# train.to_csv('train.csv', encoding='utf-8', index=False)\n",
    "# test.to_csv('test.csv', encoding='utf-8', index=False)\n",
    "# val.to_csv('val.csv', encoding='utf-8', index=False)"
   ]
  }
 ],
 "metadata": {
  "kernelspec": {
   "display_name": "Python 3 (ipykernel)",
   "language": "python",
   "name": "python3"
  },
  "language_info": {
   "codemirror_mode": {
    "name": "ipython",
    "version": 3
   },
   "file_extension": ".py",
   "mimetype": "text/x-python",
   "name": "python",
   "nbconvert_exporter": "python",
   "pygments_lexer": "ipython3",
   "version": "3.8.12"
  },
  "toc": {
   "base_numbering": 1,
   "nav_menu": {},
   "number_sections": true,
   "sideBar": true,
   "skip_h1_title": false,
   "title_cell": "Table of Contents",
   "title_sidebar": "Contents",
   "toc_cell": false,
   "toc_position": {},
   "toc_section_display": true,
   "toc_window_display": true
  },
  "varInspector": {
   "cols": {
    "lenName": 16,
    "lenType": 16,
    "lenVar": 40
   },
   "kernels_config": {
    "python": {
     "delete_cmd_postfix": "",
     "delete_cmd_prefix": "del ",
     "library": "var_list.py",
     "varRefreshCmd": "print(var_dic_list())"
    },
    "r": {
     "delete_cmd_postfix": ") ",
     "delete_cmd_prefix": "rm(",
     "library": "var_list.r",
     "varRefreshCmd": "cat(var_dic_list()) "
    }
   },
   "types_to_exclude": [
    "module",
    "function",
    "builtin_function_or_method",
    "instance",
    "_Feature"
   ],
   "window_display": false
  }
 },
 "nbformat": 4,
 "nbformat_minor": 5
}
