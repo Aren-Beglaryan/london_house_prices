{
 "cells": [
  {
   "cell_type": "markdown",
   "id": "dfb246f7",
   "metadata": {},
   "source": [
    "## Importing libraries"
   ]
  },
  {
   "cell_type": "code",
   "execution_count": null,
   "id": "900e66d1",
   "metadata": {
    "ExecuteTime": {
     "end_time": "2022-02-05T13:19:13.335458Z",
     "start_time": "2022-02-05T13:19:13.320869Z"
    }
   },
   "outputs": [],
   "source": [
    "# import sqlalchemy\n",
    "from google.cloud import bigquery\n",
    "from sqlalchemy.engine import create_engine\n",
    "from google.oauth2 import service_account\n",
    "\n",
    "import numpy as np\n",
    "import pandas as pd\n",
    "import re\n",
    "import geopy.distance\n",
    "\n",
    "from sklearn.model_selection import train_test_split\n",
    "from sklearn.preprocessing import OneHotEncoder"
   ]
  },
  {
   "cell_type": "code",
   "execution_count": null,
   "id": "19f10fc1",
   "metadata": {},
   "outputs": [],
   "source": [
    "if 5>float('inf'):\n",
    "    print('d')"
   ]
  },
  {
   "cell_type": "markdown",
   "id": "e473b260",
   "metadata": {},
   "source": [
    "## Data reading "
   ]
  },
  {
   "cell_type": "code",
   "execution_count": null,
   "id": "a07d664d",
   "metadata": {
    "ExecuteTime": {
     "end_time": "2022-02-05T11:56:54.871489Z",
     "start_time": "2022-02-05T11:56:54.853777Z"
    }
   },
   "outputs": [],
   "source": [
    "credentials_json_path = \"credentials_view.json\"\n",
    "\n",
    "credentials = service_account.Credentials.from_service_account_file(\n",
    "    credentials_json_path, scopes=[\"https://www.googleapis.com/auth/cloud-platform\"],\n",
    ")\n",
    "\n",
    "bqclient = bigquery.Client(credentials=credentials, project=credentials.project_id)"
   ]
  },
  {
   "cell_type": "code",
   "execution_count": null,
   "id": "dd3d5cf0",
   "metadata": {
    "ExecuteTime": {
     "end_time": "2022-02-05T11:56:55.725901Z",
     "start_time": "2022-02-05T11:56:55.705937Z"
    }
   },
   "outputs": [],
   "source": [
    "# PROJECT_ID = credentials.project_id\n",
    "# DB_NAME = \"house_data\"\n",
    "# DATASET = \"london_house_prices\""
   ]
  },
  {
   "cell_type": "code",
   "execution_count": null,
   "id": "6e40b5d4",
   "metadata": {
    "ExecuteTime": {
     "end_time": "2022-02-05T11:58:30.171503Z",
     "start_time": "2022-02-05T11:56:56.104775Z"
    }
   },
   "outputs": [],
   "source": [
    "# Download a table.\n",
    "table = bigquery.TableReference.from_string(\n",
    "    \"candidate-testing.house_data.london_house_prices\"\n",
    ")\n",
    "rows = bqclient.list_rows(\n",
    "    table\n",
    ")\n",
    "df = rows.to_dataframe()"
   ]
  },
  {
   "cell_type": "code",
   "execution_count": null,
   "id": "f900f6b9",
   "metadata": {
    "ExecuteTime": {
     "end_time": "2022-02-05T11:58:30.341100Z",
     "start_time": "2022-02-05T11:58:30.296306Z"
    }
   },
   "outputs": [],
   "source": [
    "df.head()"
   ]
  },
  {
   "cell_type": "code",
   "execution_count": null,
   "id": "2829708f",
   "metadata": {
    "ExecuteTime": {
     "end_time": "2022-02-05T11:58:31.204304Z",
     "start_time": "2022-02-05T11:58:30.483206Z"
    }
   },
   "outputs": [],
   "source": [
    "df.info()"
   ]
  },
  {
   "cell_type": "code",
   "execution_count": null,
   "id": "d25804a3",
   "metadata": {
    "ExecuteTime": {
     "end_time": "2022-02-05T11:58:31.923568Z",
     "start_time": "2022-02-05T11:58:31.350652Z"
    }
   },
   "outputs": [],
   "source": [
    "# df['address'].value_counts()"
   ]
  },
  {
   "cell_type": "code",
   "execution_count": null,
   "id": "ea594bc4",
   "metadata": {
    "ExecuteTime": {
     "end_time": "2022-02-05T11:58:32.283141Z",
     "start_time": "2022-02-05T11:58:32.069712Z"
    }
   },
   "outputs": [],
   "source": [
    "# df[df.address=='66, Nansen Road, London, Greater London SW11 5NT']"
   ]
  },
  {
   "cell_type": "markdown",
   "id": "656cfc0e",
   "metadata": {},
   "source": [
    "## Data cleaning and preprocessing"
   ]
  },
  {
   "cell_type": "code",
   "execution_count": null,
   "id": "8df54ec1",
   "metadata": {
    "ExecuteTime": {
     "end_time": "2022-02-05T11:58:34.205695Z",
     "start_time": "2022-02-05T11:58:32.427654Z"
    }
   },
   "outputs": [],
   "source": [
    "df = df.drop_duplicates().reset_index(drop=True)\n",
    "df.shape"
   ]
  },
  {
   "cell_type": "code",
   "execution_count": null,
   "id": "8987f3bc",
   "metadata": {
    "ExecuteTime": {
     "end_time": "2022-02-05T11:58:34.376458Z",
     "start_time": "2022-02-05T11:58:34.350628Z"
    }
   },
   "outputs": [],
   "source": [
    "df.columns"
   ]
  },
  {
   "cell_type": "code",
   "execution_count": null,
   "id": "1f40584c",
   "metadata": {},
   "outputs": [],
   "source": [
    "df = df[~((df.latitude==0) & ((df.longitude==0)))]\n",
    "df.shape"
   ]
  },
  {
   "cell_type": "code",
   "execution_count": null,
   "id": "1477276e",
   "metadata": {
    "ExecuteTime": {
     "end_time": "2022-02-05T11:58:35.954201Z",
     "start_time": "2022-02-05T11:58:34.537370Z"
    }
   },
   "outputs": [],
   "source": [
    "#if everything is same except type we have to drop that rows\n",
    "df = df.drop_duplicates([col for col in df.columns if col!='type'], keep=False)\n",
    "\n",
    "#if everything is same except bedrooms we have to drop that rows\n",
    "df = df.drop_duplicates([col for col in df.columns if col!='bedrooms'], keep=False)\n",
    "\n",
    "#if everything is same except latitude and longitude we have to drop that rows\n",
    "df = df.drop_duplicates([col for col in df.columns if col!='latitude' and col!='longitude'])\n",
    "\n",
    "#if everything is same except area we have to drop that rows\n",
    "df = df.drop_duplicates([col for col in df.columns if col!='area'], keep=False)\n",
    "\n",
    "#if everything is same except price we have to drop that rows\n",
    "df = df.drop_duplicates([col for col in df.columns if col!='price'], keep=False)\n",
    "\n",
    "#if everything is same except tenure we have to drop that rows\n",
    "df = df.drop_duplicates([col for col in df.columns if col!='tenure'], keep=False)\n",
    "\n",
    "#if everything is same except is_newbuild we have to drop that rows\n",
    "df = df.drop_duplicates([col for col in df.columns if col!='is_newbuild'], keep=False)"
   ]
  },
  {
   "cell_type": "code",
   "execution_count": null,
   "id": "84dbf6e9",
   "metadata": {
    "ExecuteTime": {
     "end_time": "2022-02-05T11:59:02.167217Z",
     "start_time": "2022-02-05T11:59:02.153080Z"
    }
   },
   "outputs": [],
   "source": [
    "df.shape"
   ]
  },
  {
   "cell_type": "code",
   "execution_count": null,
   "id": "731675f4",
   "metadata": {},
   "outputs": [],
   "source": [
    "df_row = df.iloc[5]\n",
    "\n",
    "df_row"
   ]
  },
  {
   "cell_type": "code",
   "execution_count": null,
   "id": "0907c3c4",
   "metadata": {},
   "outputs": [],
   "source": [
    "import torch"
   ]
  },
  {
   "cell_type": "code",
   "execution_count": null,
   "id": "d4dd75f3",
   "metadata": {},
   "outputs": [],
   "source": [
    "df_row"
   ]
  },
  {
   "cell_type": "code",
   "execution_count": null,
   "id": "767c395b",
   "metadata": {},
   "outputs": [],
   "source": [
    "df_row.drop('price').values"
   ]
  },
  {
   "cell_type": "code",
   "execution_count": null,
   "id": "e1160d05",
   "metadata": {},
   "outputs": [],
   "source": [
    "torch.tensor(float(df_row['price']))"
   ]
  },
  {
   "cell_type": "code",
   "execution_count": null,
   "id": "f9ea0aff",
   "metadata": {},
   "outputs": [],
   "source": [
    "df.sample(1)"
   ]
  },
  {
   "cell_type": "markdown",
   "id": "201ee953",
   "metadata": {},
   "source": [
    "## Feature engineering"
   ]
  },
  {
   "cell_type": "markdown",
   "id": "30c98e05",
   "metadata": {},
   "source": [
    "### Address column"
   ]
  },
  {
   "cell_type": "code",
   "execution_count": null,
   "id": "c9860196",
   "metadata": {},
   "outputs": [],
   "source": [
    "# # df[df['address'].str.contains(\"'\")]\n",
    "# # df.loc[1383]['address']\n",
    "\n",
    "# s = \"Flat 14, 1, King's Arms Court, London, Greater London E1 1AQ\"\n",
    "# s.lower().replace(\"'\",\"\")"
   ]
  },
  {
   "cell_type": "code",
   "execution_count": null,
   "id": "b5f24cdf",
   "metadata": {},
   "outputs": [],
   "source": [
    "df['address'] = df['address'].apply(lambda x: x.lower().replace(\"'\",\"\"))"
   ]
  },
  {
   "cell_type": "code",
   "execution_count": null,
   "id": "0a5cc12a",
   "metadata": {
    "ExecuteTime": {
     "end_time": "2022-02-05T11:59:12.990227Z",
     "start_time": "2022-02-05T11:59:12.976079Z"
    }
   },
   "outputs": [],
   "source": [
    "sample_sentence_1 = '6, Polworth, london, Greater London SW16 2EU'.lower()\n",
    "sample_sentence_2 = '6, Polworth Street, London, Greater London SW16 2EU'.lower()"
   ]
  },
  {
   "cell_type": "code",
   "execution_count": null,
   "id": "c9148a3e",
   "metadata": {
    "ExecuteTime": {
     "end_time": "2022-02-05T11:59:14.091087Z",
     "start_time": "2022-02-05T11:59:14.069210Z"
    }
   },
   "outputs": [],
   "source": [
    "def extract_road(x):\n",
    "    \"\"\"This function extracts the road/street/... from input string\n",
    "    \"\"\"\n",
    "    road_matcher = re.compile(r'(\\w+\\s?\\w+),\\s?london,')\n",
    "    res = road_matcher.findall(x)\n",
    "    if res:\n",
    "        return res[0]\n",
    "    return None\n",
    "\n",
    "print(extract_road(sample_sentence_1))\n",
    "print(extract_road(sample_sentence_2))"
   ]
  },
  {
   "cell_type": "code",
   "execution_count": null,
   "id": "cd84c05b",
   "metadata": {
    "ExecuteTime": {
     "end_time": "2022-02-05T11:59:23.502175Z",
     "start_time": "2022-02-05T11:59:14.638007Z"
    }
   },
   "outputs": [],
   "source": [
    "df['road'] = df['address'].apply(extract_road)"
   ]
  },
  {
   "cell_type": "code",
   "execution_count": null,
   "id": "06238ead",
   "metadata": {
    "ExecuteTime": {
     "end_time": "2022-02-05T11:59:23.952972Z",
     "start_time": "2022-02-05T11:59:23.820441Z"
    }
   },
   "outputs": [],
   "source": [
    "df['road'].value_counts()"
   ]
  },
  {
   "cell_type": "code",
   "execution_count": null,
   "id": "01c4fc71",
   "metadata": {},
   "outputs": [],
   "source": [
    "df = df[~df['road'].isna()].reset_index(drop=True)\n",
    "df.shape"
   ]
  },
  {
   "cell_type": "code",
   "execution_count": null,
   "id": "8499f586",
   "metadata": {},
   "outputs": [],
   "source": [
    "# uniuqe_ll = df[['latitude','longitude']].drop_duplicates().values\n",
    "# uniuqe_ll"
   ]
  },
  {
   "cell_type": "code",
   "execution_count": null,
   "id": "4df8d70b",
   "metadata": {},
   "outputs": [],
   "source": [
    "# k = 0\n",
    "# for each in uniuqe_ll:\n",
    "#     res = df[(df.latitude==each[0]) & (df.longitude==each[1])]\n",
    "#     if res['road'].nunique()>1:\n",
    "# #         print(res['road'].unique())\n",
    "# #         print('------')\n",
    "#         k+=1\n",
    "        \n",
    "# #         if k==40:\n",
    "# #             break"
   ]
  },
  {
   "cell_type": "code",
   "execution_count": null,
   "id": "b3f895b0",
   "metadata": {},
   "outputs": [],
   "source": [
    "df.head(2)"
   ]
  },
  {
   "cell_type": "markdown",
   "id": "9a1750c2",
   "metadata": {},
   "source": [
    "### Date column"
   ]
  },
  {
   "cell_type": "code",
   "execution_count": null,
   "id": "7d0c881a",
   "metadata": {
    "ExecuteTime": {
     "end_time": "2022-02-05T11:59:37.395356Z",
     "start_time": "2022-02-05T11:59:37.366250Z"
    }
   },
   "outputs": [],
   "source": [
    "df.date"
   ]
  },
  {
   "cell_type": "code",
   "execution_count": null,
   "id": "368216ed",
   "metadata": {
    "ExecuteTime": {
     "end_time": "2022-02-05T11:59:38.816923Z",
     "start_time": "2022-02-05T11:59:37.888681Z"
    }
   },
   "outputs": [],
   "source": [
    "max(df.date)"
   ]
  },
  {
   "cell_type": "code",
   "execution_count": null,
   "id": "1f79f59b",
   "metadata": {
    "ExecuteTime": {
     "end_time": "2022-02-05T11:59:39.798460Z",
     "start_time": "2022-02-05T11:59:38.961684Z"
    }
   },
   "outputs": [],
   "source": [
    "min(df.date)"
   ]
  },
  {
   "cell_type": "code",
   "execution_count": null,
   "id": "a9ce380a",
   "metadata": {
    "ExecuteTime": {
     "end_time": "2022-02-05T12:00:41.574424Z",
     "start_time": "2022-02-05T12:00:41.563520Z"
    }
   },
   "outputs": [],
   "source": [
    "today = pd.to_datetime(np.datetime64('today')).tz_localize(None)"
   ]
  },
  {
   "cell_type": "code",
   "execution_count": null,
   "id": "2aacea8c",
   "metadata": {
    "ExecuteTime": {
     "end_time": "2022-02-05T12:00:43.095881Z",
     "start_time": "2022-02-05T12:00:43.080659Z"
    }
   },
   "outputs": [],
   "source": [
    "df['date'] = df['date'].dt.tz_localize(None)"
   ]
  },
  {
   "cell_type": "code",
   "execution_count": null,
   "id": "cb24d0c1",
   "metadata": {
    "ExecuteTime": {
     "end_time": "2022-02-05T12:00:44.540667Z",
     "start_time": "2022-02-05T12:00:44.497485Z"
    }
   },
   "outputs": [],
   "source": [
    "df['date_now'] = today"
   ]
  },
  {
   "cell_type": "code",
   "execution_count": null,
   "id": "c3bb5b23",
   "metadata": {
    "ExecuteTime": {
     "end_time": "2022-02-05T12:00:49.318010Z",
     "start_time": "2022-02-05T12:00:49.279857Z"
    }
   },
   "outputs": [],
   "source": [
    "df['days_from_now'] = (df.date_now - df.date).dt.days"
   ]
  },
  {
   "cell_type": "code",
   "execution_count": null,
   "id": "a10a0874",
   "metadata": {
    "ExecuteTime": {
     "end_time": "2022-02-05T12:00:50.533415Z",
     "start_time": "2022-02-05T12:00:50.455227Z"
    }
   },
   "outputs": [],
   "source": [
    "df.sample(4)"
   ]
  },
  {
   "cell_type": "markdown",
   "id": "cbc50bba",
   "metadata": {
    "ExecuteTime": {
     "end_time": "2022-02-05T12:27:22.964822Z",
     "start_time": "2022-02-05T12:27:22.948044Z"
    }
   },
   "source": [
    "### Latitude Longitude to kilometers from center"
   ]
  },
  {
   "cell_type": "code",
   "execution_count": null,
   "id": "e0dbb450",
   "metadata": {
    "ExecuteTime": {
     "end_time": "2022-02-05T12:32:58.247676Z",
     "start_time": "2022-02-05T12:32:58.234560Z"
    }
   },
   "outputs": [],
   "source": [
    "center = [51.509865, -0.118092]\n",
    "example = [51.51092, 0.06250]\n",
    "geopy.distance.distance(center, example).km"
   ]
  },
  {
   "cell_type": "code",
   "execution_count": null,
   "id": "a4022a9f",
   "metadata": {
    "ExecuteTime": {
     "end_time": "2022-02-05T12:49:14.242215Z",
     "start_time": "2022-02-05T12:49:14.221293Z"
    }
   },
   "outputs": [],
   "source": [
    "def distance_from_center(coordinate):\n",
    "    latitude = float(coordinate.split(',')[0])\n",
    "    longitude = float(coordinate.split(',')[1])\n",
    "    center = [51.509865, -0.118092]\n",
    "    coordinate = [latitude, longitude]\n",
    "    distance = geopy.distance.distance(center, coordinate).km\n",
    "    return distance"
   ]
  },
  {
   "cell_type": "code",
   "execution_count": null,
   "id": "ea791be8",
   "metadata": {
    "ExecuteTime": {
     "end_time": "2022-02-05T12:47:45.953866Z",
     "start_time": "2022-02-05T12:47:44.793705Z"
    }
   },
   "outputs": [],
   "source": [
    "df['coordinate'] = df['latitude'].astype(str) + ',' + df['longitude'].astype(str)"
   ]
  },
  {
   "cell_type": "code",
   "execution_count": null,
   "id": "83ba6653",
   "metadata": {
    "ExecuteTime": {
     "end_time": "2022-02-05T12:47:52.163359Z",
     "start_time": "2022-02-05T12:47:52.137462Z"
    }
   },
   "outputs": [],
   "source": [
    "df['coordinate']"
   ]
  },
  {
   "cell_type": "code",
   "execution_count": null,
   "id": "ccc4505b",
   "metadata": {
    "ExecuteTime": {
     "end_time": "2022-02-05T12:49:44.045150Z",
     "start_time": "2022-02-05T12:49:44.031155Z"
    }
   },
   "outputs": [],
   "source": [
    "distance_from_center(df.coordinate[0])"
   ]
  },
  {
   "cell_type": "code",
   "execution_count": null,
   "id": "64aa36ed",
   "metadata": {
    "ExecuteTime": {
     "end_time": "2022-02-05T12:53:01.966461Z",
     "start_time": "2022-02-05T12:50:09.410512Z"
    }
   },
   "outputs": [],
   "source": [
    "df['distance_from_center'] = df.coordinate.apply(distance_from_center)"
   ]
  },
  {
   "cell_type": "code",
   "execution_count": null,
   "id": "454deb63",
   "metadata": {
    "ExecuteTime": {
     "end_time": "2022-02-05T12:59:27.192977Z",
     "start_time": "2022-02-05T12:59:27.173485Z"
    }
   },
   "outputs": [],
   "source": [
    "df.distance_from_center.max()"
   ]
  },
  {
   "cell_type": "markdown",
   "id": "bd57698c",
   "metadata": {},
   "source": [
    "## Train test split and one_hot_encode"
   ]
  },
  {
   "cell_type": "code",
   "execution_count": null,
   "id": "7fa18d19",
   "metadata": {
    "ExecuteTime": {
     "end_time": "2022-02-05T13:03:15.981739Z",
     "start_time": "2022-02-05T13:03:15.962835Z"
    }
   },
   "outputs": [],
   "source": [
    "df.columns"
   ]
  },
  {
   "cell_type": "code",
   "execution_count": null,
   "id": "6ed1d436",
   "metadata": {
    "ExecuteTime": {
     "end_time": "2022-02-05T13:04:43.084240Z",
     "start_time": "2022-02-05T13:04:42.989917Z"
    }
   },
   "outputs": [],
   "source": [
    "data = df.drop(['address','date','date_now','coordinate'],axis=1)"
   ]
  },
  {
   "cell_type": "code",
   "execution_count": null,
   "id": "83d72657",
   "metadata": {
    "ExecuteTime": {
     "end_time": "2022-02-05T13:31:17.441978Z",
     "start_time": "2022-02-05T13:31:17.377217Z"
    }
   },
   "outputs": [],
   "source": [
    "X = data.drop(['price'], axis=1)\n",
    "y = data['price']"
   ]
  },
  {
   "cell_type": "code",
   "execution_count": null,
   "id": "190b79ff",
   "metadata": {},
   "outputs": [],
   "source": [
    "X.shape, y.shape"
   ]
  },
  {
   "cell_type": "markdown",
   "id": "f07f9962",
   "metadata": {
    "ExecuteTime": {
     "end_time": "2022-02-05T13:27:54.753307Z",
     "start_time": "2022-02-05T13:27:54.743301Z"
    }
   },
   "source": [
    "# Here i have mistake (train one hot then test one hot)"
   ]
  },
  {
   "cell_type": "code",
   "execution_count": null,
   "id": "5a15299f",
   "metadata": {},
   "outputs": [],
   "source": [
    "X.head(3)"
   ]
  },
  {
   "cell_type": "code",
   "execution_count": null,
   "id": "0dff6b11",
   "metadata": {},
   "outputs": [],
   "source": [
    "def one_hot_encode(df, column):\n",
    "    one_hot = pd.get_dummies(df[column])\n",
    "    df = df.drop(column, axis = 1)\n",
    "    df = df.join(one_hot)\n",
    "    return df"
   ]
  },
  {
   "cell_type": "code",
   "execution_count": null,
   "id": "a46c2021",
   "metadata": {},
   "outputs": [],
   "source": [
    "X = one_hot_encode(X, 'type')\n",
    "X = one_hot_encode(X, 'area')\n",
    "X = one_hot_encode(X, 'tenure')\n",
    "X = one_hot_encode(X, 'road')\n",
    "\n",
    "X.shape"
   ]
  },
  {
   "cell_type": "code",
   "execution_count": null,
   "id": "a204ad35",
   "metadata": {},
   "outputs": [],
   "source": [
    "X.head(2)"
   ]
  },
  {
   "cell_type": "code",
   "execution_count": null,
   "id": "c50d5547",
   "metadata": {},
   "outputs": [],
   "source": [
    "def normalize(df, col):\n",
    "    return (df[col] - df[col].mean())/df[col].std()"
   ]
  },
  {
   "cell_type": "code",
   "execution_count": null,
   "id": "77abb013",
   "metadata": {},
   "outputs": [],
   "source": [
    "for col in ['bedrooms', 'latitude', 'longitude', 'days_from_now', 'distance_from_center']:\n",
    "    X[col] = normalize(X, col)"
   ]
  },
  {
   "cell_type": "code",
   "execution_count": null,
   "id": "06fdcaca",
   "metadata": {},
   "outputs": [],
   "source": [
    "X.head(2)"
   ]
  },
  {
   "cell_type": "code",
   "execution_count": null,
   "id": "68a527b3",
   "metadata": {},
   "outputs": [],
   "source": [
    "# batch generator\n",
    "def get_batches(X, Y, batch_size):\n",
    "    n_samples = X.shape[0]\n",
    "        \n",
    "    # Shuffle at the start of epoch\n",
    "    indices = np.arange(n_samples)\n",
    "    np.random.shuffle(indices)\n",
    "    \n",
    "    for start in range(0, n_samples, batch_size):\n",
    "        end = min(start + batch_size, n_samples)\n",
    "        \n",
    "        batch_idx = indices[start:end]\n",
    "    \n",
    "        yield X[batch_idx], Y[batch_idx]"
   ]
  },
  {
   "cell_type": "code",
   "execution_count": null,
   "id": "bca6a4f3",
   "metadata": {},
   "outputs": [],
   "source": [
    "X.to_csv('X.csv', encoding='utf-8', index=False)"
   ]
  },
  {
   "cell_type": "code",
   "execution_count": null,
   "id": "36a414eb",
   "metadata": {},
   "outputs": [],
   "source": [
    "y.to_csv('y.csv', encoding='utf-8', index=False)"
   ]
  },
  {
   "cell_type": "code",
   "execution_count": null,
   "id": "c5d1b718",
   "metadata": {},
   "outputs": [],
   "source": [
    "X_train, X_test, y_train, y_test = train_test_split(X, y, test_size=0.3, random_state=42)\n",
    "X_val, X_test, y_val, y_test = train_test_split(X_test, y_test, test_size=0.5, random_state=42)"
   ]
  },
  {
   "cell_type": "code",
   "execution_count": null,
   "id": "53a954f0",
   "metadata": {},
   "outputs": [],
   "source": [
    "(X_train.shape,y_train.shape), (X_val.shape,y_val.shape), (X_test.shape,y_test.shape)"
   ]
  },
  {
   "cell_type": "code",
   "execution_count": null,
   "id": "aaa8cda1",
   "metadata": {},
   "outputs": [],
   "source": [
    "X_train.head(3)"
   ]
  },
  {
   "cell_type": "code",
   "execution_count": null,
   "id": "ed77d67e",
   "metadata": {
    "ExecuteTime": {
     "end_time": "2022-02-05T13:31:24.562396Z",
     "start_time": "2022-02-05T13:31:24.545461Z"
    }
   },
   "outputs": [],
   "source": []
  },
  {
   "cell_type": "code",
   "execution_count": null,
   "id": "52b66ea5",
   "metadata": {},
   "outputs": [],
   "source": []
  },
  {
   "cell_type": "code",
   "execution_count": null,
   "id": "dae905cb",
   "metadata": {},
   "outputs": [],
   "source": []
  },
  {
   "cell_type": "code",
   "execution_count": null,
   "id": "4dd3bd8b",
   "metadata": {
    "ExecuteTime": {
     "end_time": "2022-02-05T13:34:23.473251Z",
     "start_time": "2022-02-05T13:34:23.431912Z"
    }
   },
   "outputs": [],
   "source": [
    "from sklearn.neural_network import MLPClassifier"
   ]
  },
  {
   "cell_type": "code",
   "execution_count": null,
   "id": "9b1ed90a",
   "metadata": {
    "ExecuteTime": {
     "end_time": "2022-02-05T13:34:27.080124Z",
     "start_time": "2022-02-05T13:34:27.069550Z"
    }
   },
   "outputs": [],
   "source": [
    "clf = MLPClassifier(solver='lbfgs', alpha=1e-5, hidden_layer_sizes=(5, 2), random_state=42)"
   ]
  },
  {
   "cell_type": "code",
   "execution_count": null,
   "id": "8120d7d5",
   "metadata": {
    "ExecuteTime": {
     "end_time": "2022-02-05T13:46:32.918000Z",
     "start_time": "2022-02-05T13:46:32.895626Z"
    }
   },
   "outputs": [],
   "source": [
    "X_train.shape"
   ]
  },
  {
   "cell_type": "code",
   "execution_count": null,
   "id": "74ab95b1",
   "metadata": {
    "ExecuteTime": {
     "end_time": "2022-02-05T13:39:20.035482Z",
     "start_time": "2022-02-05T13:34:30.692188Z"
    }
   },
   "outputs": [],
   "source": [
    "clf.fit(X_train, y_train)"
   ]
  },
  {
   "cell_type": "code",
   "execution_count": null,
   "id": "4a19d52f",
   "metadata": {
    "ExecuteTime": {
     "end_time": "2022-02-05T13:47:35.109607Z",
     "start_time": "2022-02-05T13:47:35.086998Z"
    }
   },
   "outputs": [],
   "source": [
    "import joblib"
   ]
  },
  {
   "cell_type": "code",
   "execution_count": null,
   "id": "28fe20ff",
   "metadata": {
    "ExecuteTime": {
     "end_time": "2022-02-05T13:47:38.845017Z",
     "start_time": "2022-02-05T13:47:38.788003Z"
    }
   },
   "outputs": [],
   "source": [
    "filename = 'finalized_model.sav'\n",
    "joblib.dump(clf, filename)"
   ]
  },
  {
   "cell_type": "code",
   "execution_count": null,
   "id": "787c05ae",
   "metadata": {},
   "outputs": [],
   "source": []
  }
 ],
 "metadata": {
  "kernelspec": {
   "display_name": "Python 3 (ipykernel)",
   "language": "python",
   "name": "python3"
  },
  "language_info": {
   "codemirror_mode": {
    "name": "ipython",
    "version": 3
   },
   "file_extension": ".py",
   "mimetype": "text/x-python",
   "name": "python",
   "nbconvert_exporter": "python",
   "pygments_lexer": "ipython3",
   "version": "3.8.11"
  },
  "toc": {
   "base_numbering": 1,
   "nav_menu": {},
   "number_sections": true,
   "sideBar": true,
   "skip_h1_title": false,
   "title_cell": "Table of Contents",
   "title_sidebar": "Contents",
   "toc_cell": false,
   "toc_position": {},
   "toc_section_display": true,
   "toc_window_display": true
  },
  "varInspector": {
   "cols": {
    "lenName": 16,
    "lenType": 16,
    "lenVar": 40
   },
   "kernels_config": {
    "python": {
     "delete_cmd_postfix": "",
     "delete_cmd_prefix": "del ",
     "library": "var_list.py",
     "varRefreshCmd": "print(var_dic_list())"
    },
    "r": {
     "delete_cmd_postfix": ") ",
     "delete_cmd_prefix": "rm(",
     "library": "var_list.r",
     "varRefreshCmd": "cat(var_dic_list()) "
    }
   },
   "types_to_exclude": [
    "module",
    "function",
    "builtin_function_or_method",
    "instance",
    "_Feature"
   ],
   "window_display": false
  }
 },
 "nbformat": 4,
 "nbformat_minor": 5
}
