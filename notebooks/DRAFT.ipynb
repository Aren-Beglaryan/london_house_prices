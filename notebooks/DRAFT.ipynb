{
 "cells": [
  {
   "cell_type": "code",
   "execution_count": null,
   "id": "ea635f15",
   "metadata": {
    "ExecuteTime": {
     "end_time": "2022-02-06T22:33:28.627163Z",
     "start_time": "2022-02-06T22:33:27.432211Z"
    }
   },
   "outputs": [],
   "source": [
    "import os\n",
    "import sys\n",
    "sys.path.append(\"..\")\n",
    "\n",
    "import numpy as np\n",
    "import pandas as pd\n",
    "\n",
    "import ast\n",
    "import json\n",
    "\n",
    "import torch\n",
    "\n",
    "from src.train import train\n",
    "from src.data.dataset import TrainingDataset\n",
    "from src.model import RegressorNet\n",
    "\n",
    "%load_ext autoreload\n",
    "%autoreload 2"
   ]
  },
  {
   "cell_type": "code",
   "execution_count": null,
   "id": "ff27393a",
   "metadata": {
    "ExecuteTime": {
     "end_time": "2022-02-06T22:33:32.540266Z",
     "start_time": "2022-02-06T22:33:31.474789Z"
    }
   },
   "outputs": [],
   "source": [
    "train_data = pd.read_csv('../src/data/data_files/train.csv')\n",
    "train_data.head(3)"
   ]
  },
  {
   "cell_type": "code",
   "execution_count": null,
   "id": "f5b4a342",
   "metadata": {
    "ExecuteTime": {
     "start_time": "2022-02-06T22:33:33.136Z"
    }
   },
   "outputs": [],
   "source": [
    "train(train_data_path='../src/data/data_files/train.csv',\n",
    "      val_data_path='../src/data/data_files/val.csv', epochs=1, n_input=130, batch_size=512, print_every=1)"
   ]
  },
  {
   "cell_type": "code",
   "execution_count": null,
   "id": "7ec843b1",
   "metadata": {
    "ExecuteTime": {
     "start_time": "2022-02-06T22:14:48.976Z"
    }
   },
   "outputs": [],
   "source": [
    "trained_model = 'final_model.pt'\n",
    "\n",
    "device = torch.device(\"cuda:0\" if torch.cuda.is_available() else \"cpu\")\n",
    "net = RegressorNet(n_input=2,n_output=1)\n",
    "net.to(device)\n",
    "\n",
    "if torch.cuda.is_available():\n",
    "    net.load_state_dict(torch.load(trained_model))\n",
    "else:\n",
    "    net.load_state_dict(torch.load(trained_model, map_location=torch.device('cpu')))\n",
    "net.eval()"
   ]
  },
  {
   "cell_type": "code",
   "execution_count": null,
   "id": "3e6bf082",
   "metadata": {},
   "outputs": [],
   "source": [
    "# train_data_trunc = pd.read_csv('../data_files/trunc_train.csv')\n",
    "train_data_trunc = pd.read_csv('../data_files/data.csv')"
   ]
  },
  {
   "cell_type": "code",
   "execution_count": null,
   "id": "3941717d",
   "metadata": {},
   "outputs": [],
   "source": [
    "indx = 67\n",
    "net(torch.from_numpy(train_data_trunc.iloc[indx].drop('price').values).float())"
   ]
  },
  {
   "cell_type": "code",
   "execution_count": null,
   "id": "9af7db92",
   "metadata": {},
   "outputs": [],
   "source": [
    "train_data_trunc.iloc[indx].price"
   ]
  },
  {
   "cell_type": "code",
   "execution_count": null,
   "id": "a6d35738",
   "metadata": {},
   "outputs": [],
   "source": [
    "train_data_trunc['price'].mean()"
   ]
  },
  {
   "cell_type": "code",
   "execution_count": null,
   "id": "7388d1ae",
   "metadata": {},
   "outputs": [],
   "source": []
  }
 ],
 "metadata": {
  "kernelspec": {
   "display_name": "Python 3 (ipykernel)",
   "language": "python",
   "name": "python3"
  },
  "language_info": {
   "codemirror_mode": {
    "name": "ipython",
    "version": 3
   },
   "file_extension": ".py",
   "mimetype": "text/x-python",
   "name": "python",
   "nbconvert_exporter": "python",
   "pygments_lexer": "ipython3",
   "version": "3.8.12"
  },
  "toc": {
   "base_numbering": 1,
   "nav_menu": {},
   "number_sections": true,
   "sideBar": true,
   "skip_h1_title": false,
   "title_cell": "Table of Contents",
   "title_sidebar": "Contents",
   "toc_cell": false,
   "toc_position": {},
   "toc_section_display": true,
   "toc_window_display": false
  },
  "varInspector": {
   "cols": {
    "lenName": 16,
    "lenType": 16,
    "lenVar": 40
   },
   "kernels_config": {
    "python": {
     "delete_cmd_postfix": "",
     "delete_cmd_prefix": "del ",
     "library": "var_list.py",
     "varRefreshCmd": "print(var_dic_list())"
    },
    "r": {
     "delete_cmd_postfix": ") ",
     "delete_cmd_prefix": "rm(",
     "library": "var_list.r",
     "varRefreshCmd": "cat(var_dic_list()) "
    }
   },
   "types_to_exclude": [
    "module",
    "function",
    "builtin_function_or_method",
    "instance",
    "_Feature"
   ],
   "window_display": false
  }
 },
 "nbformat": 4,
 "nbformat_minor": 5
}
