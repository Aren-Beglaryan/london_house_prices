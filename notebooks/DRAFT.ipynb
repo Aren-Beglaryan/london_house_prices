{
 "cells": [
  {
   "cell_type": "code",
   "execution_count": 1,
   "id": "ea635f15",
   "metadata": {},
   "outputs": [],
   "source": [
    "import os\n",
    "import sys\n",
    "sys.path.append(\"..\")\n",
    "\n",
    "import numpy as np\n",
    "import pandas as pd\n",
    "\n",
    "import ast\n",
    "import json\n",
    "\n",
    "import torch\n",
    "\n",
    "%load_ext autoreload\n",
    "%autoreload 2"
   ]
  },
  {
   "cell_type": "code",
   "execution_count": 2,
   "id": "228c378f",
   "metadata": {},
   "outputs": [],
   "source": [
    "from src.model import RegressorNet"
   ]
  },
  {
   "cell_type": "code",
   "execution_count": null,
   "id": "ff27393a",
   "metadata": {},
   "outputs": [],
   "source": [
    "train_data = pd.read_csv('../data_files/train.csv')\n",
    "train_data.head(3)"
   ]
  },
  {
   "cell_type": "code",
   "execution_count": null,
   "id": "36badd0a",
   "metadata": {},
   "outputs": [],
   "source": [
    "import math"
   ]
  },
  {
   "cell_type": "code",
   "execution_count": null,
   "id": "451ef4f0",
   "metadata": {},
   "outputs": [],
   "source": [
    "x = list(range(1,100))\n",
    "y = [math.sqrt(e) for e in x]\n",
    "\n",
    "x,y"
   ]
  },
  {
   "cell_type": "code",
   "execution_count": null,
   "id": "2f7d49a0",
   "metadata": {},
   "outputs": [],
   "source": [
    "df = pd.DataFrame(np.array([x,y]).T, columns=['feature','price'])\n",
    "df.to_csv('../data_files/data.csv')"
   ]
  },
  {
   "cell_type": "code",
   "execution_count": null,
   "id": "5c1af9b7",
   "metadata": {},
   "outputs": [],
   "source": []
  },
  {
   "cell_type": "code",
   "execution_count": null,
   "id": "03245602",
   "metadata": {},
   "outputs": [],
   "source": [
    "# train_data.head(100).to_csv('../data_files/trunc_train.csv', encoding='utf-8', index=False)"
   ]
  },
  {
   "cell_type": "code",
   "execution_count": 4,
   "id": "53e91d66",
   "metadata": {},
   "outputs": [],
   "source": [
    "from src.train import train\n",
    "from src.data.dataset import TrainingDataset"
   ]
  },
  {
   "cell_type": "code",
   "execution_count": null,
   "id": "f5b4a342",
   "metadata": {},
   "outputs": [],
   "source": [
    "train(train_data_path='../data_files/data.csv',\n",
    "      val_data_path='../data_files/data.csv', epochs=100, n_input=2, batch_size=50, print_every=1)"
   ]
  },
  {
   "cell_type": "code",
   "execution_count": null,
   "id": "7ec843b1",
   "metadata": {},
   "outputs": [],
   "source": [
    "trained_model = 'final_model.pt'\n",
    "\n",
    "device = torch.device(\"cuda:0\" if torch.cuda.is_available() else \"cpu\")\n",
    "net = RegressorNet(n_input=2,n_output=1)\n",
    "net.to(device)\n",
    "\n",
    "if torch.cuda.is_available():\n",
    "    net.load_state_dict(torch.load(trained_model))\n",
    "else:\n",
    "    net.load_state_dict(torch.load(trained_model, map_location=torch.device('cpu')))\n",
    "net.eval()"
   ]
  },
  {
   "cell_type": "code",
   "execution_count": null,
   "id": "3e6bf082",
   "metadata": {},
   "outputs": [],
   "source": [
    "# train_data_trunc = pd.read_csv('../data_files/trunc_train.csv')\n",
    "train_data_trunc = pd.read_csv('../data_files/data.csv')"
   ]
  },
  {
   "cell_type": "code",
   "execution_count": null,
   "id": "3941717d",
   "metadata": {},
   "outputs": [],
   "source": [
    "indx = 67\n",
    "net(torch.from_numpy(train_data_trunc.iloc[indx].drop('price').values).float())"
   ]
  },
  {
   "cell_type": "code",
   "execution_count": null,
   "id": "9af7db92",
   "metadata": {},
   "outputs": [],
   "source": [
    "train_data_trunc.iloc[indx].price"
   ]
  },
  {
   "cell_type": "code",
   "execution_count": null,
   "id": "a6d35738",
   "metadata": {},
   "outputs": [],
   "source": [
    "train_data_trunc['price'].mean()"
   ]
  },
  {
   "cell_type": "code",
   "execution_count": null,
   "id": "7388d1ae",
   "metadata": {},
   "outputs": [],
   "source": []
  }
 ],
 "metadata": {
  "kernelspec": {
   "display_name": "Python 3 (ipykernel)",
   "language": "python",
   "name": "python3"
  },
  "language_info": {
   "codemirror_mode": {
    "name": "ipython",
    "version": 3
   },
   "file_extension": ".py",
   "mimetype": "text/x-python",
   "name": "python",
   "nbconvert_exporter": "python",
   "pygments_lexer": "ipython3",
   "version": "3.8.11"
  }
 },
 "nbformat": 4,
 "nbformat_minor": 5
}
