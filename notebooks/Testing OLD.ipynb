{
 "cells": [
  {
   "cell_type": "code",
   "execution_count": 1,
   "id": "cc4696d4",
   "metadata": {},
   "outputs": [],
   "source": [
    "import sqlalchemy\n",
    "from google.cloud import bigquery\n",
    "from sqlalchemy.engine import create_engine\n",
    "\n",
    "import pandas as pd\n",
    "\n",
    "from google.oauth2 import service_account"
   ]
  },
  {
   "cell_type": "code",
   "execution_count": 2,
   "id": "b6f2f93e",
   "metadata": {},
   "outputs": [],
   "source": [
    "credentials_json_path = \"credentials_view.json\"\n",
    "\n",
    "credentials = service_account.Credentials.from_service_account_file(\n",
    "    credentials_json_path, scopes=[\"https://www.googleapis.com/auth/cloud-platform\"],\n",
    ")\n",
    "\n",
    "bqclient = bigquery.Client(credentials=credentials, project=credentials.project_id)"
   ]
  },
  {
   "cell_type": "code",
   "execution_count": 3,
   "id": "8bff4e39",
   "metadata": {},
   "outputs": [],
   "source": [
    "# PROJECT_ID = credentials.project_id\n",
    "# DB_NAME = \"house_data\"\n",
    "# DATASET = \"london_house_prices\""
   ]
  },
  {
   "cell_type": "code",
   "execution_count": 4,
   "id": "3c6e390d",
   "metadata": {},
   "outputs": [],
   "source": [
    "# Download a table.\n",
    "table = bigquery.TableReference.from_string(\n",
    "    \"candidate-testing.house_data.london_house_prices\"\n",
    ")\n",
    "rows = bqclient.list_rows(\n",
    "    table\n",
    ")\n",
    "df = rows.to_dataframe()"
   ]
  },
  {
   "cell_type": "code",
   "execution_count": 5,
   "id": "55efb237",
   "metadata": {},
   "outputs": [
    {
     "data": {
      "text/html": [
       "<div>\n",
       "<style scoped>\n",
       "    .dataframe tbody tr th:only-of-type {\n",
       "        vertical-align: middle;\n",
       "    }\n",
       "\n",
       "    .dataframe tbody tr th {\n",
       "        vertical-align: top;\n",
       "    }\n",
       "\n",
       "    .dataframe thead th {\n",
       "        text-align: right;\n",
       "    }\n",
       "</style>\n",
       "<table border=\"1\" class=\"dataframe\">\n",
       "  <thead>\n",
       "    <tr style=\"text-align: right;\">\n",
       "      <th></th>\n",
       "      <th>address</th>\n",
       "      <th>type</th>\n",
       "      <th>bedrooms</th>\n",
       "      <th>latitude</th>\n",
       "      <th>longitude</th>\n",
       "      <th>area</th>\n",
       "      <th>price</th>\n",
       "      <th>tenure</th>\n",
       "      <th>is_newbuild</th>\n",
       "      <th>date</th>\n",
       "    </tr>\n",
       "  </thead>\n",
       "  <tbody>\n",
       "    <tr>\n",
       "      <th>0</th>\n",
       "      <td>Flat 3, Warwick Apartments, 132, Cable Street,...</td>\n",
       "      <td>Flat</td>\n",
       "      <td>1</td>\n",
       "      <td>51.51092</td>\n",
       "      <td>-0.06250</td>\n",
       "      <td>E1</td>\n",
       "      <td>299995</td>\n",
       "      <td>Leasehold</td>\n",
       "      <td>1</td>\n",
       "      <td>2014-01-28 00:00:00+00:00</td>\n",
       "    </tr>\n",
       "    <tr>\n",
       "      <th>1</th>\n",
       "      <td>Flat 3, Warwick Apartments, 132, Cable Street,...</td>\n",
       "      <td>Flat</td>\n",
       "      <td>1</td>\n",
       "      <td>51.51092</td>\n",
       "      <td>-0.06250</td>\n",
       "      <td>E1</td>\n",
       "      <td>445000</td>\n",
       "      <td>Leasehold</td>\n",
       "      <td>0</td>\n",
       "      <td>2019-06-20 00:00:00+00:00</td>\n",
       "    </tr>\n",
       "    <tr>\n",
       "      <th>2</th>\n",
       "      <td>25, Varden Street, London, Greater London E1 2AW</td>\n",
       "      <td>Terraced</td>\n",
       "      <td>3</td>\n",
       "      <td>51.51576</td>\n",
       "      <td>-0.06128</td>\n",
       "      <td>E1</td>\n",
       "      <td>300000</td>\n",
       "      <td>Freehold</td>\n",
       "      <td>0</td>\n",
       "      <td>2007-04-20 00:00:00+00:00</td>\n",
       "    </tr>\n",
       "    <tr>\n",
       "      <th>3</th>\n",
       "      <td>25, Varden Street, London, Greater London E1 2AW</td>\n",
       "      <td>Terraced</td>\n",
       "      <td>3</td>\n",
       "      <td>51.51576</td>\n",
       "      <td>-0.06128</td>\n",
       "      <td>E1</td>\n",
       "      <td>1350000</td>\n",
       "      <td>Freehold</td>\n",
       "      <td>0</td>\n",
       "      <td>2020-11-27 00:00:00+00:00</td>\n",
       "    </tr>\n",
       "    <tr>\n",
       "      <th>4</th>\n",
       "      <td>22b Petticoat Tower, Petticoat Square, London,...</td>\n",
       "      <td>Flat</td>\n",
       "      <td>1</td>\n",
       "      <td>51.51575</td>\n",
       "      <td>-0.07714</td>\n",
       "      <td>E1</td>\n",
       "      <td>249950</td>\n",
       "      <td>Leasehold</td>\n",
       "      <td>0</td>\n",
       "      <td>2014-11-07 00:00:00+00:00</td>\n",
       "    </tr>\n",
       "  </tbody>\n",
       "</table>\n",
       "</div>"
      ],
      "text/plain": [
       "                                             address      type  bedrooms  \\\n",
       "0  Flat 3, Warwick Apartments, 132, Cable Street,...      Flat         1   \n",
       "1  Flat 3, Warwick Apartments, 132, Cable Street,...      Flat         1   \n",
       "2   25, Varden Street, London, Greater London E1 2AW  Terraced         3   \n",
       "3   25, Varden Street, London, Greater London E1 2AW  Terraced         3   \n",
       "4  22b Petticoat Tower, Petticoat Square, London,...      Flat         1   \n",
       "\n",
       "   latitude  longitude area    price     tenure  is_newbuild  \\\n",
       "0  51.51092   -0.06250   E1   299995  Leasehold            1   \n",
       "1  51.51092   -0.06250   E1   445000  Leasehold            0   \n",
       "2  51.51576   -0.06128   E1   300000   Freehold            0   \n",
       "3  51.51576   -0.06128   E1  1350000   Freehold            0   \n",
       "4  51.51575   -0.07714   E1   249950  Leasehold            0   \n",
       "\n",
       "                       date  \n",
       "0 2014-01-28 00:00:00+00:00  \n",
       "1 2019-06-20 00:00:00+00:00  \n",
       "2 2007-04-20 00:00:00+00:00  \n",
       "3 2020-11-27 00:00:00+00:00  \n",
       "4 2014-11-07 00:00:00+00:00  "
      ]
     },
     "execution_count": 5,
     "metadata": {},
     "output_type": "execute_result"
    }
   ],
   "source": [
    "df.head()"
   ]
  },
  {
   "cell_type": "code",
   "execution_count": 6,
   "id": "626ba5d8",
   "metadata": {},
   "outputs": [
    {
     "name": "stdout",
     "output_type": "stream",
     "text": [
      "<class 'pandas.core.frame.DataFrame'>\n",
      "RangeIndex: 690063 entries, 0 to 690062\n",
      "Data columns (total 10 columns):\n",
      " #   Column       Non-Null Count   Dtype              \n",
      "---  ------       --------------   -----              \n",
      " 0   address      690063 non-null  object             \n",
      " 1   type         690063 non-null  object             \n",
      " 2   bedrooms     690063 non-null  int64              \n",
      " 3   latitude     690063 non-null  float64            \n",
      " 4   longitude    690063 non-null  float64            \n",
      " 5   area         690063 non-null  object             \n",
      " 6   price        690063 non-null  int64              \n",
      " 7   tenure       690063 non-null  object             \n",
      " 8   is_newbuild  690063 non-null  int64              \n",
      " 9   date         690063 non-null  datetime64[ns, UTC]\n",
      "dtypes: datetime64[ns, UTC](1), float64(2), int64(3), object(4)\n",
      "memory usage: 52.6+ MB\n"
     ]
    }
   ],
   "source": [
    "df.info()"
   ]
  },
  {
   "cell_type": "code",
   "execution_count": 7,
   "id": "f24490f1",
   "metadata": {},
   "outputs": [
    {
     "data": {
      "text/plain": [
       "66, Nansen Road, London, Greater London SW11 5NT                                           1764\n",
       "6, Elmbourne Road, London, Greater London SW17 8JR                                         1540\n",
       "26, Longfield Street, London, Greater London SW18 5RE                                      1530\n",
       "38, Island Row, London, Greater London E14 7HU                                             1476\n",
       "75, Muncaster Road, London, Greater London SW11 6NX                                        1470\n",
       "                                                                                           ... \n",
       "32, Blackberry Court, Queen Mary Avenue, South Woodford, London, Greater London E18 2GF       1\n",
       "33, Blackberry Court, Queen Mary Avenue, South Woodford, London, Greater London E18 2GF       1\n",
       "18, Blackberry Court, Queen Mary Avenue, South Woodford, London, Greater London E18 2GF       1\n",
       "30, Blackberry Court, Queen Mary Avenue, South Woodford, London, Greater London E18 2GF       1\n",
       "11, Perth Close, London, Greater London SW20 0AJ                                              1\n",
       "Name: address, Length: 111196, dtype: int64"
      ]
     },
     "execution_count": 7,
     "metadata": {},
     "output_type": "execute_result"
    }
   ],
   "source": [
    "df['address'].value_counts()"
   ]
  },
  {
   "cell_type": "code",
   "execution_count": 8,
   "id": "1b891257",
   "metadata": {},
   "outputs": [
    {
     "data": {
      "text/html": [
       "<div>\n",
       "<style scoped>\n",
       "    .dataframe tbody tr th:only-of-type {\n",
       "        vertical-align: middle;\n",
       "    }\n",
       "\n",
       "    .dataframe tbody tr th {\n",
       "        vertical-align: top;\n",
       "    }\n",
       "\n",
       "    .dataframe thead th {\n",
       "        text-align: right;\n",
       "    }\n",
       "</style>\n",
       "<table border=\"1\" class=\"dataframe\">\n",
       "  <thead>\n",
       "    <tr style=\"text-align: right;\">\n",
       "      <th></th>\n",
       "      <th>address</th>\n",
       "      <th>type</th>\n",
       "      <th>bedrooms</th>\n",
       "      <th>latitude</th>\n",
       "      <th>longitude</th>\n",
       "      <th>area</th>\n",
       "      <th>price</th>\n",
       "      <th>tenure</th>\n",
       "      <th>is_newbuild</th>\n",
       "      <th>date</th>\n",
       "    </tr>\n",
       "  </thead>\n",
       "  <tbody>\n",
       "    <tr>\n",
       "      <th>588008</th>\n",
       "      <td>66, Nansen Road, London, Greater London SW11 5NT</td>\n",
       "      <td>Terraced</td>\n",
       "      <td>4</td>\n",
       "      <td>51.46421</td>\n",
       "      <td>-0.15431</td>\n",
       "      <td>SW11</td>\n",
       "      <td>775000</td>\n",
       "      <td>Freehold</td>\n",
       "      <td>0</td>\n",
       "      <td>2009-10-28 00:00:00+00:00</td>\n",
       "    </tr>\n",
       "    <tr>\n",
       "      <th>588009</th>\n",
       "      <td>66, Nansen Road, London, Greater London SW11 5NT</td>\n",
       "      <td>Semi-Detached</td>\n",
       "      <td>4</td>\n",
       "      <td>51.46421</td>\n",
       "      <td>-0.15431</td>\n",
       "      <td>SW11</td>\n",
       "      <td>775000</td>\n",
       "      <td>Freehold</td>\n",
       "      <td>0</td>\n",
       "      <td>2009-10-28 00:00:00+00:00</td>\n",
       "    </tr>\n",
       "    <tr>\n",
       "      <th>588010</th>\n",
       "      <td>66, Nansen Road, London, Greater London SW11 5NT</td>\n",
       "      <td>Semi-Detached</td>\n",
       "      <td>4</td>\n",
       "      <td>51.46421</td>\n",
       "      <td>-0.15431</td>\n",
       "      <td>SW11</td>\n",
       "      <td>775000</td>\n",
       "      <td>Freehold</td>\n",
       "      <td>0</td>\n",
       "      <td>2009-10-28 00:00:00+00:00</td>\n",
       "    </tr>\n",
       "    <tr>\n",
       "      <th>588011</th>\n",
       "      <td>66, Nansen Road, London, Greater London SW11 5NT</td>\n",
       "      <td>Semi-Detached</td>\n",
       "      <td>4</td>\n",
       "      <td>51.46421</td>\n",
       "      <td>-0.15431</td>\n",
       "      <td>SW11</td>\n",
       "      <td>775000</td>\n",
       "      <td>Freehold</td>\n",
       "      <td>0</td>\n",
       "      <td>2009-10-28 00:00:00+00:00</td>\n",
       "    </tr>\n",
       "    <tr>\n",
       "      <th>588012</th>\n",
       "      <td>66, Nansen Road, London, Greater London SW11 5NT</td>\n",
       "      <td>Terraced</td>\n",
       "      <td>4</td>\n",
       "      <td>51.46421</td>\n",
       "      <td>-0.15431</td>\n",
       "      <td>SW11</td>\n",
       "      <td>775000</td>\n",
       "      <td>Freehold</td>\n",
       "      <td>0</td>\n",
       "      <td>2009-10-28 00:00:00+00:00</td>\n",
       "    </tr>\n",
       "    <tr>\n",
       "      <th>...</th>\n",
       "      <td>...</td>\n",
       "      <td>...</td>\n",
       "      <td>...</td>\n",
       "      <td>...</td>\n",
       "      <td>...</td>\n",
       "      <td>...</td>\n",
       "      <td>...</td>\n",
       "      <td>...</td>\n",
       "      <td>...</td>\n",
       "      <td>...</td>\n",
       "    </tr>\n",
       "    <tr>\n",
       "      <th>589774</th>\n",
       "      <td>66, Nansen Road, London, Greater London SW11 5NT</td>\n",
       "      <td>Semi-Detached</td>\n",
       "      <td>4</td>\n",
       "      <td>51.46421</td>\n",
       "      <td>-0.15431</td>\n",
       "      <td>SW11</td>\n",
       "      <td>1300000</td>\n",
       "      <td>Freehold</td>\n",
       "      <td>0</td>\n",
       "      <td>2019-12-19 00:00:00+00:00</td>\n",
       "    </tr>\n",
       "    <tr>\n",
       "      <th>589775</th>\n",
       "      <td>66, Nansen Road, London, Greater London SW11 5NT</td>\n",
       "      <td>Semi-Detached</td>\n",
       "      <td>4</td>\n",
       "      <td>51.46421</td>\n",
       "      <td>-0.15431</td>\n",
       "      <td>SW11</td>\n",
       "      <td>1300000</td>\n",
       "      <td>Freehold</td>\n",
       "      <td>0</td>\n",
       "      <td>2019-12-19 00:00:00+00:00</td>\n",
       "    </tr>\n",
       "    <tr>\n",
       "      <th>589776</th>\n",
       "      <td>66, Nansen Road, London, Greater London SW11 5NT</td>\n",
       "      <td>Terraced</td>\n",
       "      <td>4</td>\n",
       "      <td>51.46421</td>\n",
       "      <td>-0.15431</td>\n",
       "      <td>SW11</td>\n",
       "      <td>1300000</td>\n",
       "      <td>Freehold</td>\n",
       "      <td>0</td>\n",
       "      <td>2019-12-19 00:00:00+00:00</td>\n",
       "    </tr>\n",
       "    <tr>\n",
       "      <th>589777</th>\n",
       "      <td>66, Nansen Road, London, Greater London SW11 5NT</td>\n",
       "      <td>Semi-Detached</td>\n",
       "      <td>4</td>\n",
       "      <td>51.46421</td>\n",
       "      <td>-0.15431</td>\n",
       "      <td>SW11</td>\n",
       "      <td>1300000</td>\n",
       "      <td>Freehold</td>\n",
       "      <td>0</td>\n",
       "      <td>2019-12-19 00:00:00+00:00</td>\n",
       "    </tr>\n",
       "    <tr>\n",
       "      <th>589778</th>\n",
       "      <td>66, Nansen Road, London, Greater London SW11 5NT</td>\n",
       "      <td>Semi-Detached</td>\n",
       "      <td>4</td>\n",
       "      <td>51.46421</td>\n",
       "      <td>-0.15431</td>\n",
       "      <td>SW11</td>\n",
       "      <td>1300000</td>\n",
       "      <td>Freehold</td>\n",
       "      <td>0</td>\n",
       "      <td>2019-12-19 00:00:00+00:00</td>\n",
       "    </tr>\n",
       "  </tbody>\n",
       "</table>\n",
       "<p>1764 rows × 10 columns</p>\n",
       "</div>"
      ],
      "text/plain": [
       "                                                 address           type  \\\n",
       "588008  66, Nansen Road, London, Greater London SW11 5NT       Terraced   \n",
       "588009  66, Nansen Road, London, Greater London SW11 5NT  Semi-Detached   \n",
       "588010  66, Nansen Road, London, Greater London SW11 5NT  Semi-Detached   \n",
       "588011  66, Nansen Road, London, Greater London SW11 5NT  Semi-Detached   \n",
       "588012  66, Nansen Road, London, Greater London SW11 5NT       Terraced   \n",
       "...                                                  ...            ...   \n",
       "589774  66, Nansen Road, London, Greater London SW11 5NT  Semi-Detached   \n",
       "589775  66, Nansen Road, London, Greater London SW11 5NT  Semi-Detached   \n",
       "589776  66, Nansen Road, London, Greater London SW11 5NT       Terraced   \n",
       "589777  66, Nansen Road, London, Greater London SW11 5NT  Semi-Detached   \n",
       "589778  66, Nansen Road, London, Greater London SW11 5NT  Semi-Detached   \n",
       "\n",
       "        bedrooms  latitude  longitude  area    price    tenure  is_newbuild  \\\n",
       "588008         4  51.46421   -0.15431  SW11   775000  Freehold            0   \n",
       "588009         4  51.46421   -0.15431  SW11   775000  Freehold            0   \n",
       "588010         4  51.46421   -0.15431  SW11   775000  Freehold            0   \n",
       "588011         4  51.46421   -0.15431  SW11   775000  Freehold            0   \n",
       "588012         4  51.46421   -0.15431  SW11   775000  Freehold            0   \n",
       "...          ...       ...        ...   ...      ...       ...          ...   \n",
       "589774         4  51.46421   -0.15431  SW11  1300000  Freehold            0   \n",
       "589775         4  51.46421   -0.15431  SW11  1300000  Freehold            0   \n",
       "589776         4  51.46421   -0.15431  SW11  1300000  Freehold            0   \n",
       "589777         4  51.46421   -0.15431  SW11  1300000  Freehold            0   \n",
       "589778         4  51.46421   -0.15431  SW11  1300000  Freehold            0   \n",
       "\n",
       "                            date  \n",
       "588008 2009-10-28 00:00:00+00:00  \n",
       "588009 2009-10-28 00:00:00+00:00  \n",
       "588010 2009-10-28 00:00:00+00:00  \n",
       "588011 2009-10-28 00:00:00+00:00  \n",
       "588012 2009-10-28 00:00:00+00:00  \n",
       "...                          ...  \n",
       "589774 2019-12-19 00:00:00+00:00  \n",
       "589775 2019-12-19 00:00:00+00:00  \n",
       "589776 2019-12-19 00:00:00+00:00  \n",
       "589777 2019-12-19 00:00:00+00:00  \n",
       "589778 2019-12-19 00:00:00+00:00  \n",
       "\n",
       "[1764 rows x 10 columns]"
      ]
     },
     "execution_count": 8,
     "metadata": {},
     "output_type": "execute_result"
    }
   ],
   "source": [
    "df[df.address=='66, Nansen Road, London, Greater London SW11 5NT']"
   ]
  },
  {
   "cell_type": "code",
   "execution_count": 9,
   "id": "fade71d2",
   "metadata": {},
   "outputs": [
    {
     "data": {
      "text/plain": [
       "(241007, 10)"
      ]
     },
     "execution_count": 9,
     "metadata": {},
     "output_type": "execute_result"
    }
   ],
   "source": [
    "df = df.drop_duplicates().reset_index(drop=True)\n",
    "df.shape"
   ]
  },
  {
   "cell_type": "code",
   "execution_count": null,
   "id": "9320255a",
   "metadata": {},
   "outputs": [],
   "source": [
    "# df = df.drop(['type'],axis=1).drop_duplicates(keep=False)\n",
    "# df = df.drop(['bedrooms'],axis=1).drop_duplicates(keep=False)\n",
    "\n",
    "# df = df.drop(['latitude'],axis=1).drop_duplicates(keep=False)\n",
    "# df = df.drop(['longitude'],axis=1).drop_duplicates(keep=False)"
   ]
  },
  {
   "cell_type": "code",
   "execution_count": null,
   "id": "a14d27e7",
   "metadata": {},
   "outputs": [],
   "source": [
    "# df.drop(['address'],axis=1).drop_duplicates(keep=False).shape"
   ]
  },
  {
   "cell_type": "code",
   "execution_count": 130,
   "id": "37920641",
   "metadata": {},
   "outputs": [],
   "source": [
    "import re"
   ]
  },
  {
   "cell_type": "code",
   "execution_count": 131,
   "id": "f0d58d9d",
   "metadata": {},
   "outputs": [],
   "source": [
    "sample_sentence = '6, Polworth, London, Greater London SW16 2EU'"
   ]
  },
  {
   "cell_type": "code",
   "execution_count": 132,
   "id": "72d8b67a",
   "metadata": {},
   "outputs": [
    {
     "data": {
      "text/plain": [
       "'Polworth'"
      ]
     },
     "execution_count": 132,
     "metadata": {},
     "output_type": "execute_result"
    }
   ],
   "source": [
    "road_matcher = re.compile(r'(\\w+\\s?\\w+),\\s?London,')\n",
    "def extract_road(x):\n",
    "    res = road_matcher.findall(x)\n",
    "    if res:\n",
    "        return res[0]\n",
    "    return None\n",
    "\n",
    "extract_road(sample_sentence)"
   ]
  },
  {
   "cell_type": "code",
   "execution_count": 133,
   "id": "5f015360",
   "metadata": {},
   "outputs": [],
   "source": [
    "df['road'] = df['address'].apply(extract_road)"
   ]
  },
  {
   "cell_type": "code",
   "execution_count": 134,
   "id": "d2116f1e",
   "metadata": {},
   "outputs": [
    {
     "data": {
      "text/plain": [
       "0             Cable Street\n",
       "1             Cable Street\n",
       "2            Varden Street\n",
       "3            Varden Street\n",
       "4         Petticoat Square\n",
       "                ...       \n",
       "241002         Perth Close\n",
       "241003         Perth Close\n",
       "241004         Perth Close\n",
       "241005         Perth Close\n",
       "241006         Perth Close\n",
       "Name: road, Length: 241007, dtype: object"
      ]
     },
     "execution_count": 134,
     "metadata": {},
     "output_type": "execute_result"
    }
   ],
   "source": [
    "df['road']"
   ]
  },
  {
   "cell_type": "code",
   "execution_count": 117,
   "id": "2e759b56",
   "metadata": {},
   "outputs": [],
   "source": [
    "# df['road'].value_counts()"
   ]
  },
  {
   "cell_type": "code",
   "execution_count": 135,
   "id": "ff66bf8f",
   "metadata": {},
   "outputs": [
    {
     "data": {
      "text/plain": [
       "6"
      ]
     },
     "execution_count": 135,
     "metadata": {},
     "output_type": "execute_result"
    }
   ],
   "source": [
    "df['road'].isna().sum()"
   ]
  },
  {
   "cell_type": "code",
   "execution_count": 119,
   "id": "12e2154f",
   "metadata": {},
   "outputs": [
    {
     "data": {
      "text/plain": [
       "95630    Flat 14, Vermont House, 4, Quayle Crescent, Ba...\n",
       "95632    Flat 5, Vermont House, 4, Quayle Crescent, Bar...\n",
       "95634    Flat 8, Vermont House, 4, Quayle Crescent, Bar...\n",
       "95635    Flat 13, Vermont House, 4, Quayle Crescent, Ba...\n",
       "Name: address, dtype: object"
      ]
     },
     "execution_count": 119,
     "metadata": {},
     "output_type": "execute_result"
    }
   ],
   "source": [
    "df[df['road'].isna()]['address']"
   ]
  },
  {
   "cell_type": "code",
   "execution_count": 120,
   "id": "2460ab50",
   "metadata": {},
   "outputs": [
    {
     "data": {
      "text/plain": [
       "'Flat 5, Vermont House, 4, Quayle Crescent, Barnet, Greater London N20 0ER'"
      ]
     },
     "execution_count": 120,
     "metadata": {},
     "output_type": "execute_result"
    }
   ],
   "source": [
    "df.iloc[95632]['address']"
   ]
  },
  {
   "cell_type": "code",
   "execution_count": 136,
   "id": "c984a26a",
   "metadata": {},
   "outputs": [],
   "source": [
    "# df[df.address.str.contains('Mitcham')]"
   ]
  },
  {
   "cell_type": "code",
   "execution_count": null,
   "id": "557b9ae0",
   "metadata": {},
   "outputs": [],
   "source": []
  }
 ],
 "metadata": {
  "kernelspec": {
   "display_name": "Python 3 (ipykernel)",
   "language": "python",
   "name": "python3"
  },
  "language_info": {
   "codemirror_mode": {
    "name": "ipython",
    "version": 3
   },
   "file_extension": ".py",
   "mimetype": "text/x-python",
   "name": "python",
   "nbconvert_exporter": "python",
   "pygments_lexer": "ipython3",
   "version": "3.8.11"
  }
 },
 "nbformat": 4,
 "nbformat_minor": 5
}
